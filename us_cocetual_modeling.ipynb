{
 "metadata": {
  "language_info": {
   "codemirror_mode": {
    "name": "ipython",
    "version": 3
   },
   "file_extension": ".py",
   "mimetype": "text/x-python",
   "name": "python",
   "nbconvert_exporter": "python",
   "pygments_lexer": "ipython3",
   "version": "3.8.5-final"
  },
  "orig_nbformat": 2,
  "kernelspec": {
   "name": "python3",
   "display_name": "Python 3",
   "language": "python"
  }
 },
 "nbformat": 4,
 "nbformat_minor": 2,
 "cells": [
  {
   "source": [
    "# Conceptual Modeling for User Story\n",
    "A Capstone Project for Misk Data Science Immersive Course\n",
    " \n",
    "Sarah A. AlQahtani\n",
    "\n",
    "Dec 6, 2020"
   ],
   "cell_type": "markdown",
   "metadata": {}
  },
  {
   "source": [
    "## Introduction\n",
    "\n",
    "In software engineering, a user story is an informal, natural language description of one or more features of a software system. A user story is a tool used in Agile software development to capture a description of a software feature from an end-user perspective. A user story describes three componants:\n",
    "- Who wants the functionality\n",
    "- What functionality the end users or stakeholders want\n",
    "the system to provide\n",
    "- Why the end users and stakeholders need this functionality (optional).\n",
    "\n",
    "In this project we aim at extracting a conceptual model that can staderized the understanding of the requiermens among stakeholders, product owner and development team. The extraction process can be applied with help of the NLP techniques since the input of is a requierments that written in English.To achive this goal, we went through several stages as below:\n",
    "- Data Collection\n",
    "- Data Munjing\n",
    "- Annotating Data\n",
    "- Train NER Model\n"
   ],
   "cell_type": "markdown",
   "metadata": {}
  },
  {
   "source": [
    "---"
   ],
   "cell_type": "markdown",
   "metadata": {}
  },
  {
   "source": [
    "## Dataset Description\n",
    "A collection of 22 dataset of more than 50 requierments each a.k.a 'user story'. These were all found online, or retrieved from software companies with a permission to disclose. \n",
    "\n",
    "Dataset: https://data.mendeley.com/datasets/7zbk8zsd8y/1"
   ],
   "cell_type": "markdown",
   "metadata": {}
  },
  {
   "cell_type": "code",
   "execution_count": 106,
   "metadata": {},
   "outputs": [],
   "source": [
    "# load the requiered libraries\n",
    "import math\n",
    "import pandas as pd\n",
    "import numpy as np\n",
    "import seaborn as sns\n",
    "import statsmodels.api as sm\n",
    "from scipy import stats\n",
    "from datetime import datetime\n",
    "import matplotlib.pyplot as plt\n",
    "from io import StringIO\n",
    "import random\n",
    "import pickle\n",
    "import csv\n",
    "import plotly.graph_objects as go\n",
    "import collections\n",
    "\n",
    "# Reading PDFs\n",
    "from pdfminer.converter import TextConverter\n",
    "from pdfminer.layout import LAParams\n",
    "from pdfminer.pdfdocument import PDFDocument\n",
    "from pdfminer.pdfinterp import PDFResourceManager, PDFPageInterpreter\n",
    "from pdfminer.pdfpage import PDFPage\n",
    "from pdfminer.pdfparser import PDFParser\n",
    "# XML\n",
    "import os\n",
    "from xml.etree import ElementTree\n",
    "# Preprocessing\n",
    "from cleantext import clean\n",
    "# Spacy\n",
    "import spacy\n",
    "from spacy.symbols import nsubj, VERB\n",
    "from spacy.symbols import VERB, NOUN\n",
    "from spacy.matcher import Matcher\n",
    "import random\n",
    "from spacy.util import minibatch, compounding\n",
    "\n",
    "import warnings\n",
    "#nlkt\n",
    "import nltk\n",
    "from nltk.corpus import stopwords \n",
    "from nltk.tokenize import RegexpTokenizer\n",
    "from nltk.tokenize import word_tokenize  \n",
    "\n",
    "#ploty\n",
    "from plotly import __version__ \n",
    "from plotly.offline import download_plotlyjs, init_notebook_mode, plot, iplot \n",
    "\n",
    "#Word Cloud\n",
    "from wordcloud import WordCloud, STOPWORDS \n"
   ]
  },
  {
   "source": [
    "Let's see what is inside the files and how are the requierments written"
   ],
   "cell_type": "markdown",
   "metadata": {}
  },
  {
   "source": [
    "path='/Users/alqahtsa/py_projects/DS_Capstone_Project/user_stories_txt/g02-federalspending.txt'\n",
    "\n",
    "f=open(path,'r',encoding='windows-1252')\n",
    "user_story_lines = f.readlines()\n",
    "for line in user_story_lines:\n",
    "    print(line)"
   ],
   "cell_type": "code",
   "metadata": {},
   "execution_count": 30,
   "outputs": [
    {
     "output_type": "stream",
     "name": "stdout",
     "text": [
      "ï»¿As a Data user, I want to have the 12-19-2017 deletions processed.\n\nAs a UI designer, I want to redesign the Resources page, so that it matches the new Broker design styles.\n\nAs a UI designer, I want to report to the Agencies about user testing, so that they are aware of their contributions to making Broker a better UX.\n\nAs a UI designer, I want to move on to round 2 of DABS or FABS landing page edits, so that I can get approvals from leadership.\n\nAs a UI designer, I want to move on to round 2 of Homepage edits, so that I can get approvals from leadership.\n\nAs a UI designer, I want to move on to round 3 of the Help page edits, so that I can get approvals from leadership.\n\nAs a Developer , I want to be able to log better, so that I can troubleshoot issues with particular submissions and functions.\n\nAs a Developer, I want to add the updates on a FABS submission to be modified when the publishStatus changes, so that I know when the status of the submission has changed.\n\nAs a DevOps engineer, I want New Relic to provide useful data across all applications.\n\nAs a UI designer,  I want to move on to round 2 of the Help page edits, so that I can get approvals from leadership.\n\nAs a UI designer, I want to move on to round 2 of Homepage edits, so that I can get approvals from leadership.\n\nAs a Broker user, I want to Upload and Validate the error message to have accurate text.\n\nAs a Broker user, I want the D1 file generation to be synced with the FPDS data load, so that I don't have to regenerate a file if no data has been updated.\n\nAs a Website user, I want to access published FABS files, so that I can see the new files as they come in.\n\nAs an owner, I want to be sure that USAspending only send grant records to my system.\n\nAs a Developer, I want to update the Broker validation rule table to account for the rule updates in DB-2213.\n\nAs a Developer, I want to add the GTAS window data to the database, so that I can ensure the site is locked down during the GTAS submission period.\n\nAs a Developer, I want D Files generation requests to be managed and cached, so that duplicate requests do not cause performance issues.\n\nAs a user, I want to access the raw agency published files from FABS via USAspending.\n\nAs an Agency user, I want to be able to include a large number of flexfields without performance impact.\n\nAs a Broker user, I want  to help create content mockups, so that I can submit my data efficiently.\n\nAs a UI designer, I want to track the issues that come up in Tech Thursday, so that I know what to test and what want s to be fixed.\n\nAs an Owner, I want to create a user testing summary from the UI SME, so that I can know what UI improvements we will follow through on.\n\nAs a UI designer, I want to begin user testing, so that I can validate stakeholder UI improvement requests.\n\nAs a UI designer, I want to schedule user testing, so that I can give the testers advanced notice to ensure buy-in.\n\nAs an Owner, I want to design a schedule from the UI SME, so that I know the potential timeline of the UI improvements wanted.\n\nAs an Owner, I want to design an audit from the UI SME, so that I know the potential scope of the UI improvements want ed.\n\nAs a Developer, I want to prevent users from double publishing FABS submissions after refreshing, so that there are no duplicates.\n\nAs an data user, I want to receive updates to FABS records.\n\nAs an Agency user, I want to be able to include a large number of flexfields without performance impact.\n\nAs a Developer , I want to update the FABS sample file to remove FundingAgencyCode after FABS is updated to no longer require the header.\n\nAs an agency user, I want to ensure that deleted FSRS records are not included in submissions.\n\nAs a website user, I want to see updated financial assistance data daily.\n\nAs a user, I want the publish button in FABS to deactivate after I click it while the derivations are happening, so that I cannot click it multiple times for the same submission.\n\nAs a Developer , I want to ensure that attempts to correct or delete non-existent records don't create new published data.\n\nAs an Owner, I want to reset the environment to only take Staging MAX permissions, so that I can ensure that the FABS testers no longer have access.\n\nAs a user, I want the flexfields in my submission file to appear in the warning and error files when the only error is a missing required element.\n\nAs a user, I want to have accurate and complete data related to PPoPCode and PPoPCongressionalDistrict.\n\nAs an agency user, I want the FABS validation rules to accept zero and blank for loan records.\n\nAs an Agency user, I want FABS deployed into production, so I can submit my Financial Assistance data.\n\nAs a Developer , I want to clarify to users what exactly is triggering the CFDA error code in each case.\n\nAs an agency user, I want to be confident that the data coming from SAM is complete.\n\nAs a Developer , I want my domain models to be indexed properly, so that I can get validation results back in a reasonable amount of time.\n\nAs an agency user, I want the FABS validation rules to accept zero and blank for non-loan records.\n\nAs a broker team member, I want to make some updates to the SQL codes for clarity.\n\nAs an agency user, I want to have all derived data elements derived properly.\n\nAs a broker team member, I want to add the 00***** and 00FORGN PPoPCode cases to the derivation logic.\n\nAs a data user, I want to see the office names derived from office codes, so that I can have appropriate context for understanding them.\n\nAs a broker user, I want the historical FABS loader to derive fields, so that my agency codes are correct in the PublishedAwardFinancialAssistance table.\n\nAs a broker team member, I want to ensure the Broker resources, validations, and P&P pages are updated appropriately for the launch of FABS and DAIMS v1.1.\n\nAs a Developer, I want the data loaded from historical FABS to include the FREC derivations, so that I can have consistent FREC data for USASpending.gov.\n\nAs a user, I don't want to see NASA grants displayed as contracts.\n\nAs a user, I want the DUNS validations to accept records whose ActionTypes are B, C, or D and the DUNS is registered in SAM, even though it may have expired. \n\nAs a user, I want the DUNS validations to accept records whose ActionDates are before the current registration date in SAM, but after the initial registration date.\n\nAs a broker team member, I want to derive FundingAgencyCode, so that the data quality and completeness improves.\n\nAs an agency user, I want the maximum length allowed for LegalEntityAddressLine3 to match Schema v1.1.\n\nAs an agency user, I want to use the schema v1.1 headers in my FABS file.\n\nAs a agency user, I want to map the FederalActionObligation properly to the Atom Feed.\n\nAs a Broker user, I want to have PPoPZIP+4 work the same as the Legal Entity ZIP validations.\n\nAs a FABS user, I want to link the SAMPLE FILE on the \"What you want  to submit\" dialog to point to the correct file, so that I have an accurate reference for my agency submissions.\n\nAs an Agency user, I want FPDS data to be up-to-date daily.\n\nAs a user, I want to access the raw agency published files from FABS via USAspending.\n\nAs a Developer , I want to determine how agencies will generate and validate D Files from FABS and FPDS data.\n\nAs a user, I want to generate and validate D Files from FABS and FPDS data.\n\nAs an Agency user, I want the header information box to show updated date AND time, so that I know when it was updated.\n\nAs an Agency user, I want to receive a more helpful file-level error when I upload a file with the wrong extension.\n\nAs a tester, I want to have access to test features in environments other than Staging, so that I can test any nonProd feature in any environment.\n\nAs a FABS user, I want to submission errors to accurately represent FABS errors, so that I know why my submission didn't work.\n\nAs a FABS user, I want the frontend URLs to more accurately reflect the page I'm accessing, so that I'm not confused.\n\nAs an Agency user, I want all historical Financial Assistance data loaded for FABS go-live.\n\nAs a Developer , I want the historical FPDS data loader to include both extracted historical data and FPDS feed data.\n\nAs an Agency user, I want historical FPDS data loaded.\n\nAs an Agency user, I want to accurately see who created a submission, so that I'm not confused about who last updated a submission.\n\nAs an agency user, I want to get File F in the correct format.\n\nAs an Agency user, I want to better understand my file-level errors.\n\nAs a Developer , I want to provide FABS groups that function under the FREC paradigm.\n\nAs a tester, I want to ensure that FABS is deriving fields properly through a robust test file plus a follow up check.\n\nAs an owner, I only want zero-padded fields, so that I can justify padding.\n\nAs a Broker user, I want to submit records for individual recipients without receiving a DUNS error.\n\nAs a user, I want more information about how many rows will be published prior to deciding whether to publish.\n\nAs a Developer, I want to prevent duplicate transactions from being published and deal with the time gap between validation and the publishing decision.\n\nAs a FABS user, I want to submit a citywide as a PPoPZIP and pass validations.\n\nAs a Broker user, I want to have updated error codes that accurately reflect the logic and provide enough information, so that I can fix my submission.\n\nAs an agency user, I want to leave off the last 4 digits of the ZIP without an error, so that I can complete my submissions.\n\nAs a FABS user, I want to make sure the historical data includes all necessary columns, so that the information in the database is correct.\n\nAs a data user, I want to access two additional fields from the FPDS data pull.\n\nAs a FABS user, I want additional helpful info in the submission dashboard, so that I can better manage submissions and IG requests.\n\nAs a FABS user, I want to download the uploaded FABS file, so that I can get the uploaded file.\n\nAs a Developer, I want to quickly access Broker application data, so that I can investigate issues.\n\nAs a Developer , I want to determine the best way to load historical FPDS data, so that I can load all FPDS data since 2007.\n\nAs a FABS user, I want the language on FABS pages to be appropriate for me, so that I am not confused.\n\nAs a FABS user, I do not want  DABS banner messages and vice versa, so that I have the appropriate information for my application.\n\nAs a FABS user, I want to have read-only access to DABS, so that I can view DABS pages without wanting two sets of permissions.\n\nAs a FABS user, I want to have my validations run in a reasonable amount of time.\n\nAs a FABS user, I want to see correct status labels on the Submission Dashboard, so that I can quickly see my submission history.\n\nAs an agency user, I want to know when the submission periods start and end, so that I know when the submission starts and ends.\n\nAs an agency user, I want a landing page to navigate to either FABS or DABS pages, so that I can access both sides of the site.\n\nAs an agency user, I want to submit my data elements surrounded by quotation marks, so that Excel won't strip off leading and trailing zeroes.\n"
     ]
    }
   ]
  },
  {
   "source": [
    "As we can see above that each requierment is written in certin pattern seperated by comma.\n",
    "\n",
    "**<as a (....), i want (....), so that (....)>**\n",
    "\n",
    "- **Role:** represent the one who want the functionality.\n",
    "- **Means:** represent the functionality that the end user ask for.\n",
    "- **End:** the reason behind the need of the functionality in end user perspective. (optional)"
   ],
   "cell_type": "markdown",
   "metadata": {}
  },
  {
   "cell_type": "code",
   "execution_count": 25,
   "metadata": {},
   "outputs": [],
   "source": [
    "def get_text(full_file):\n",
    "    '''\n",
    "    func: get_text(user_story.txt)\n",
    "    input:user_story.pdf\n",
    "    output:plain text\n",
    "    main packages: os\n",
    "    user_story=get_text(full_file)\n",
    "    '''\n",
    "    file1=open(full_file,'r',encoding='windows-1252')\n",
    "    user_story_lines = file1.readlines()\n",
    "    user_story2=\"\"\n",
    "    for line in user_story_lines:\n",
    "        user_story2=user_story2+str(line)\n",
    "    user_story22=\" \".join(user_story2.split('\\n'))\n",
    "    return user_story22"
   ]
  },
  {
   "source": [
    "---"
   ],
   "cell_type": "markdown",
   "metadata": {}
  },
  {
   "source": [
    "## Data Munging"
   ],
   "cell_type": "markdown",
   "metadata": {}
  },
  {
   "source": [
    "In every NLP project, text has to go through several stages to be processed, so we can get a better accuracy result of the machine learning model.\n",
    "\n",
    "Here, we remove unicode characters, urls, emails, numbers, "
   ],
   "cell_type": "markdown",
   "metadata": {}
  },
  {
   "cell_type": "code",
   "execution_count": 115,
   "metadata": {},
   "outputs": [],
   "source": [
    "def preprocess_text(user_story):\n",
    "  clean_user_story=clean(user_story,\n",
    "    fix_unicode=True,               # fix various unicode errors\n",
    "    to_ascii=True,                  # transliterate to closest ASCII representation\n",
    "    lower=True,                     # lowercase text\n",
    "    no_line_breaks=True,           # fully strip line breaks as opposed to only normalizing them\n",
    "    no_urls=True,                  # replace all URLs with a special token\n",
    "    no_emails=True,                # replace all email addresses with a special token\n",
    "    no_phone_numbers=True,         # replace all phone numbers with a special token\n",
    "    no_numbers=True,               # replace all numbers with a special token\n",
    "    no_digits=True,                # replace all digits with a special token\n",
    "    no_currency_symbols=True,      # replace all currency symbols with a special token\n",
    "    no_punct=False,                 # remove punctuations\n",
    "    replace_with_punct=\"\",          # instead of removing punctuations you may replace them\n",
    "    replace_with_url=\"\",\n",
    "    replace_with_email=\"\",\n",
    "    replace_with_phone_number=\"\",\n",
    "    replace_with_number=\"\",\n",
    "    replace_with_digit=\"\",\n",
    "    replace_with_currency_symbol=\"\",\n",
    "    lang=\"en\"                       # set to 'de' for German special handling\n",
    "    )\n",
    "\n",
    "  return clean_user_story"
   ]
  },
  {
   "source": [
    "## Feature engineering and EDA"
   ],
   "cell_type": "markdown",
   "metadata": {}
  },
  {
   "cell_type": "code",
   "execution_count": 33,
   "metadata": {},
   "outputs": [
    {
     "output_type": "execute_result",
     "data": {
      "text/plain": [
       "22"
      ]
     },
     "metadata": {},
     "execution_count": 33
    }
   ],
   "source": [
    "len([file for file in os.listdir(rootdir)]) \n"
   ]
  },
  {
   "source": [
    "There are 22 files that contain user stories."
   ],
   "cell_type": "markdown",
   "metadata": {}
  },
  {
   "source": [
    "Here, we are going to calculate some statisical calculation that will haep us to understand the dataset. we'll calculate:\n",
    "- the number of charechters in every file \n",
    "- the number of tokens, \n",
    "- number of requierment in each file and \n",
    "- the avrage words length in each file."
   ],
   "cell_type": "markdown",
   "metadata": {}
  },
  {
   "cell_type": "code",
   "execution_count": 74,
   "metadata": {
    "tags": []
   },
   "outputs": [
    {
     "output_type": "execute_result",
     "data": {
      "text/plain": [
       "                  file_name file_len word_count us_count  avg_word_len\n",
       "0         g25-duraspace.txt    11420       2015       99      4.667990\n",
       "1          g18-neurohub.txt    11837       2199      101      4.383356\n",
       "2            g26-racdam.txt    11779       2122       99      4.551367\n",
       "3        g28-zooniverse.txt     6124       1060       59      4.778302\n",
       "4     g23-archivesspace.txt     4931        875       56      4.636571\n",
       "5           g03-loudoun.txt     9097       1579       57      4.761875\n",
       "6        g12-camperplus.txt     7132       1397       54      4.105941\n",
       "7              g17-cask.txt     8714       1627       66      4.356484\n",
       "8     g10-scrumalliance.txt    12929       2569       96      4.033087\n",
       "9      g08-frictionless.txt     9533       1745       66      4.463610\n",
       "10  g02-federalspending.txt    11090       2085       97      4.319424\n",
       "11          g21-badcamp.txt    10183       1887       68      4.396926\n",
       "12           g19-alfred.txt    13006       2441      137      4.328554\n",
       "13    g13-planningpoker.txt     7497       1454       52      4.156809\n",
       "14          g24-unibath.txt     8213       1464       52      4.610656\n",
       "15           g22-rdadmp.txt    12208       2246       82      4.435886\n",
       "16     g05-openspending.txt     8562       1640      104      4.221341\n",
       "17              g11-nsf.txt     9474       1749       72      4.417381\n",
       "18          g14-datahub.txt     9369       1841       66      4.089625\n",
       "19              g16-mis.txt     8926       1534       67      4.819426\n",
       "20          g27-culrepo.txt    19265       3314      114      4.813518\n",
       "21        g04-recycling.txt     6617       1287       50      4.142191"
      ],
      "text/html": "<div>\n<style scoped>\n    .dataframe tbody tr th:only-of-type {\n        vertical-align: middle;\n    }\n\n    .dataframe tbody tr th {\n        vertical-align: top;\n    }\n\n    .dataframe thead th {\n        text-align: right;\n    }\n</style>\n<table border=\"1\" class=\"dataframe\">\n  <thead>\n    <tr style=\"text-align: right;\">\n      <th></th>\n      <th>file_name</th>\n      <th>file_len</th>\n      <th>word_count</th>\n      <th>us_count</th>\n      <th>avg_word_len</th>\n    </tr>\n  </thead>\n  <tbody>\n    <tr>\n      <th>0</th>\n      <td>g25-duraspace.txt</td>\n      <td>11420</td>\n      <td>2015</td>\n      <td>99</td>\n      <td>4.667990</td>\n    </tr>\n    <tr>\n      <th>1</th>\n      <td>g18-neurohub.txt</td>\n      <td>11837</td>\n      <td>2199</td>\n      <td>101</td>\n      <td>4.383356</td>\n    </tr>\n    <tr>\n      <th>2</th>\n      <td>g26-racdam.txt</td>\n      <td>11779</td>\n      <td>2122</td>\n      <td>99</td>\n      <td>4.551367</td>\n    </tr>\n    <tr>\n      <th>3</th>\n      <td>g28-zooniverse.txt</td>\n      <td>6124</td>\n      <td>1060</td>\n      <td>59</td>\n      <td>4.778302</td>\n    </tr>\n    <tr>\n      <th>4</th>\n      <td>g23-archivesspace.txt</td>\n      <td>4931</td>\n      <td>875</td>\n      <td>56</td>\n      <td>4.636571</td>\n    </tr>\n    <tr>\n      <th>5</th>\n      <td>g03-loudoun.txt</td>\n      <td>9097</td>\n      <td>1579</td>\n      <td>57</td>\n      <td>4.761875</td>\n    </tr>\n    <tr>\n      <th>6</th>\n      <td>g12-camperplus.txt</td>\n      <td>7132</td>\n      <td>1397</td>\n      <td>54</td>\n      <td>4.105941</td>\n    </tr>\n    <tr>\n      <th>7</th>\n      <td>g17-cask.txt</td>\n      <td>8714</td>\n      <td>1627</td>\n      <td>66</td>\n      <td>4.356484</td>\n    </tr>\n    <tr>\n      <th>8</th>\n      <td>g10-scrumalliance.txt</td>\n      <td>12929</td>\n      <td>2569</td>\n      <td>96</td>\n      <td>4.033087</td>\n    </tr>\n    <tr>\n      <th>9</th>\n      <td>g08-frictionless.txt</td>\n      <td>9533</td>\n      <td>1745</td>\n      <td>66</td>\n      <td>4.463610</td>\n    </tr>\n    <tr>\n      <th>10</th>\n      <td>g02-federalspending.txt</td>\n      <td>11090</td>\n      <td>2085</td>\n      <td>97</td>\n      <td>4.319424</td>\n    </tr>\n    <tr>\n      <th>11</th>\n      <td>g21-badcamp.txt</td>\n      <td>10183</td>\n      <td>1887</td>\n      <td>68</td>\n      <td>4.396926</td>\n    </tr>\n    <tr>\n      <th>12</th>\n      <td>g19-alfred.txt</td>\n      <td>13006</td>\n      <td>2441</td>\n      <td>137</td>\n      <td>4.328554</td>\n    </tr>\n    <tr>\n      <th>13</th>\n      <td>g13-planningpoker.txt</td>\n      <td>7497</td>\n      <td>1454</td>\n      <td>52</td>\n      <td>4.156809</td>\n    </tr>\n    <tr>\n      <th>14</th>\n      <td>g24-unibath.txt</td>\n      <td>8213</td>\n      <td>1464</td>\n      <td>52</td>\n      <td>4.610656</td>\n    </tr>\n    <tr>\n      <th>15</th>\n      <td>g22-rdadmp.txt</td>\n      <td>12208</td>\n      <td>2246</td>\n      <td>82</td>\n      <td>4.435886</td>\n    </tr>\n    <tr>\n      <th>16</th>\n      <td>g05-openspending.txt</td>\n      <td>8562</td>\n      <td>1640</td>\n      <td>104</td>\n      <td>4.221341</td>\n    </tr>\n    <tr>\n      <th>17</th>\n      <td>g11-nsf.txt</td>\n      <td>9474</td>\n      <td>1749</td>\n      <td>72</td>\n      <td>4.417381</td>\n    </tr>\n    <tr>\n      <th>18</th>\n      <td>g14-datahub.txt</td>\n      <td>9369</td>\n      <td>1841</td>\n      <td>66</td>\n      <td>4.089625</td>\n    </tr>\n    <tr>\n      <th>19</th>\n      <td>g16-mis.txt</td>\n      <td>8926</td>\n      <td>1534</td>\n      <td>67</td>\n      <td>4.819426</td>\n    </tr>\n    <tr>\n      <th>20</th>\n      <td>g27-culrepo.txt</td>\n      <td>19265</td>\n      <td>3314</td>\n      <td>114</td>\n      <td>4.813518</td>\n    </tr>\n    <tr>\n      <th>21</th>\n      <td>g04-recycling.txt</td>\n      <td>6617</td>\n      <td>1287</td>\n      <td>50</td>\n      <td>4.142191</td>\n    </tr>\n  </tbody>\n</table>\n</div>"
     },
     "metadata": {},
     "execution_count": 74
    }
   ],
   "source": [
    "user_story_f_df=pd.DataFrame(columns=['file_name','file_len','word_count','us_count','avg_word_len'])\n",
    "rootdir='/Users/alqahtsa/py_projects/uml_generator/user_stories_txt'\n",
    "user_stories=''\n",
    "for subdir, dirs, files in os.walk(rootdir):\n",
    "    for i,file in enumerate(files):\n",
    "        filepath = subdir + os.sep + file\n",
    "        f=open(filepath,'r',encoding='windows-1252')\n",
    "        user_story_lines = f.readlines()\n",
    "        for count,line in enumerate(user_story_lines):\n",
    "            no_req=count\n",
    "        user_storyf=get_text(filepath)\n",
    "        clean_user_storyf=preprocess_text(user_storyf)\n",
    "        avg_word_len=get_avg_word_len(clean_user_storyf)\n",
    "        user_stories=user_stories+' '+clean_user_storyf\n",
    "\n",
    "\n",
    "        user_story_f_df.loc[i]=[file,len(clean_user_storyf),len(clean_user_storyf.split()),no_req,avg_word_len]\n",
    "user_story_f_df"
   ]
  },
  {
   "cell_type": "code",
   "execution_count": 56,
   "metadata": {},
   "outputs": [],
   "source": [
    "def get_avg_word_len(us):\n",
    "    #we don't want to calculate the whitespaces\n",
    "    words=us.split()\n",
    "    word_len=0\n",
    "    for word in words:\n",
    "        word_len=word_len+len(word)\n",
    "    return word_len/len(words)"
   ]
  },
  {
   "source": [
    "### Question1: Most common words in each file?"
   ],
   "cell_type": "markdown",
   "metadata": {}
  },
  {
   "cell_type": "code",
   "execution_count": 110,
   "metadata": {},
   "outputs": [],
   "source": [
    "stop_words=stopwords.words('english')\n",
    "stop_words"
   ]
  },
  {
   "source": [
    "\n",
    "tokenizer = RegexpTokenizer(r'\\w+')\n",
    "stop_words = set(stopwords.words('english'))  \n",
    "word_tokens = tokenizer.tokenize(user_stories)  \n",
    "#filtered_sentence = [count[w] \n",
    "\n",
    "count = collections.defaultdict(int)\n",
    "# stopwords excluded\n",
    "# also want which in exsists in every user story in the means part\n",
    "# so that which exsists in every user story in the means part are removed as they stopwords also\n",
    "filtered_us_txt=''\n",
    "for w in word_tokens: \n",
    "    if not w in stop_words and w!='want':\n",
    "        filtered_us_txt+=''+w\n",
    "        count[w]+=1\n",
    "most_common = sorted(count.items(), key=lambda k_v: k_v[1], reverse=True)[:10]\n",
    "word_ls=[]\n",
    "count_ls=[]\n",
    "for word, i in most_common:\n",
    "    word_ls.append(word)\n",
    "    count_ls.append(i)\n",
    "most_common_df=pd.DataFrame(columns=['word','count'])\n",
    "most_common_df['word']=word_ls\n",
    "most_common_df['count']=count_ls\n",
    "most_common_df.plot.bar(x='word',y='count')"
   ],
   "cell_type": "code",
   "metadata": {},
   "execution_count": 113,
   "outputs": [
    {
     "output_type": "execute_result",
     "data": {
      "text/plain": [
       "<AxesSubplot:xlabel='word'>"
      ]
     },
     "metadata": {},
     "execution_count": 113
    },
    {
     "output_type": "display_data",
     "data": {
      "text/plain": "<Figure size 432x288 with 1 Axes>",
      "image/svg+xml": "<?xml version=\"1.0\" encoding=\"utf-8\" standalone=\"no\"?>\n<!DOCTYPE svg PUBLIC \"-//W3C//DTD SVG 1.1//EN\"\n  \"http://www.w3.org/Graphics/SVG/1.1/DTD/svg11.dtd\">\n<!-- Created with matplotlib (https://matplotlib.org/) -->\n<svg height=\"303.080625pt\" version=\"1.1\" viewBox=\"0 0 375.2875 303.080625\" width=\"375.2875pt\" xmlns=\"http://www.w3.org/2000/svg\" xmlns:xlink=\"http://www.w3.org/1999/xlink\">\n <metadata>\n  <rdf:RDF xmlns:cc=\"http://creativecommons.org/ns#\" xmlns:dc=\"http://purl.org/dc/elements/1.1/\" xmlns:rdf=\"http://www.w3.org/1999/02/22-rdf-syntax-ns#\">\n   <cc:Work>\n    <dc:type rdf:resource=\"http://purl.org/dc/dcmitype/StillImage\"/>\n    <dc:date>2020-12-16T11:06:18.732264</dc:date>\n    <dc:format>image/svg+xml</dc:format>\n    <dc:creator>\n     <cc:Agent>\n      <dc:title>Matplotlib v3.3.2, https://matplotlib.org/</dc:title>\n     </cc:Agent>\n    </dc:creator>\n   </cc:Work>\n  </rdf:RDF>\n </metadata>\n <defs>\n  <style type=\"text/css\">*{stroke-linecap:butt;stroke-linejoin:round;}</style>\n </defs>\n <g id=\"figure_1\">\n  <g id=\"patch_1\">\n   <path d=\"M 0 303.080625 \nL 375.2875 303.080625 \nL 375.2875 0 \nL 0 0 \nz\n\" style=\"fill:none;\"/>\n  </g>\n  <g id=\"axes_1\">\n   <g id=\"patch_2\">\n    <path d=\"M 33.2875 224.64 \nL 368.0875 224.64 \nL 368.0875 7.2 \nL 33.2875 7.2 \nz\n\" style=\"fill:#ffffff;\"/>\n   </g>\n   <g id=\"patch_3\">\n    <path clip-path=\"url(#p5a89f56e1a)\" d=\"M 41.6575 224.64 \nL 58.3975 224.64 \nL 58.3975 17.554286 \nL 41.6575 17.554286 \nz\n\" style=\"fill:#1f77b4;\"/>\n   </g>\n   <g id=\"patch_4\">\n    <path clip-path=\"url(#p5a89f56e1a)\" d=\"M 75.1375 224.64 \nL 91.8775 224.64 \nL 91.8775 85.342823 \nL 75.1375 85.342823 \nz\n\" style=\"fill:#1f77b4;\"/>\n   </g>\n   <g id=\"patch_5\">\n    <path clip-path=\"url(#p5a89f56e1a)\" d=\"M 108.6175 224.64 \nL 125.3575 224.64 \nL 125.3575 149.824602 \nL 108.6175 149.824602 \nz\n\" style=\"fill:#1f77b4;\"/>\n   </g>\n   <g id=\"patch_6\">\n    <path clip-path=\"url(#p5a89f56e1a)\" d=\"M 142.0975 224.64 \nL 158.8375 224.64 \nL 158.8375 152.718015 \nL 142.0975 152.718015 \nz\n\" style=\"fill:#1f77b4;\"/>\n   </g>\n   <g id=\"patch_7\">\n    <path clip-path=\"url(#p5a89f56e1a)\" d=\"M 175.5775 224.64 \nL 192.3175 224.64 \nL 192.3175 156.438118 \nL 175.5775 156.438118 \nz\n\" style=\"fill:#1f77b4;\"/>\n   </g>\n   <g id=\"patch_8\">\n    <path clip-path=\"url(#p5a89f56e1a)\" d=\"M 209.0575 224.64 \nL 225.7975 224.64 \nL 225.7975 163.464979 \nL 209.0575 163.464979 \nz\n\" style=\"fill:#1f77b4;\"/>\n   </g>\n   <g id=\"patch_9\">\n    <path clip-path=\"url(#p5a89f56e1a)\" d=\"M 242.5375 224.64 \nL 259.2775 224.64 \nL 259.2775 164.291668 \nL 242.5375 164.291668 \nz\n\" style=\"fill:#1f77b4;\"/>\n   </g>\n   <g id=\"patch_10\">\n    <path clip-path=\"url(#p5a89f56e1a)\" d=\"M 276.0175 224.64 \nL 292.7575 224.64 \nL 292.7575 165.945047 \nL 276.0175 165.945047 \nz\n\" style=\"fill:#1f77b4;\"/>\n   </g>\n   <g id=\"patch_11\">\n    <path clip-path=\"url(#p5a89f56e1a)\" d=\"M 309.4975 224.64 \nL 326.2375 224.64 \nL 326.2375 170.491839 \nL 309.4975 170.491839 \nz\n\" style=\"fill:#1f77b4;\"/>\n   </g>\n   <g id=\"patch_12\">\n    <path clip-path=\"url(#p5a89f56e1a)\" d=\"M 342.9775 224.64 \nL 359.7175 224.64 \nL 359.7175 170.905184 \nL 342.9775 170.905184 \nz\n\" style=\"fill:#1f77b4;\"/>\n   </g>\n   <g id=\"matplotlib.axis_1\">\n    <g id=\"xtick_1\">\n     <g id=\"line2d_1\">\n      <defs>\n       <path d=\"M 0 0 \nL 0 3.5 \n\" id=\"m6835483971\" style=\"stroke:#000000;stroke-width:0.8;\"/>\n      </defs>\n      <g>\n       <use style=\"stroke:#000000;stroke-width:0.8;\" x=\"50.0275\" xlink:href=\"#m6835483971\" y=\"224.64\"/>\n      </g>\n     </g>\n     <g id=\"text_1\">\n      <!-- data -->\n      <g transform=\"translate(52.786875 254.165)rotate(-90)scale(0.1 -0.1)\">\n       <defs>\n        <path d=\"M 45.40625 46.390625 \nL 45.40625 75.984375 \nL 54.390625 75.984375 \nL 54.390625 0 \nL 45.40625 0 \nL 45.40625 8.203125 \nQ 42.578125 3.328125 38.25 0.953125 \nQ 33.9375 -1.421875 27.875 -1.421875 \nQ 17.96875 -1.421875 11.734375 6.484375 \nQ 5.515625 14.40625 5.515625 27.296875 \nQ 5.515625 40.1875 11.734375 48.09375 \nQ 17.96875 56 27.875 56 \nQ 33.9375 56 38.25 53.625 \nQ 42.578125 51.265625 45.40625 46.390625 \nz\nM 14.796875 27.296875 \nQ 14.796875 17.390625 18.875 11.75 \nQ 22.953125 6.109375 30.078125 6.109375 \nQ 37.203125 6.109375 41.296875 11.75 \nQ 45.40625 17.390625 45.40625 27.296875 \nQ 45.40625 37.203125 41.296875 42.84375 \nQ 37.203125 48.484375 30.078125 48.484375 \nQ 22.953125 48.484375 18.875 42.84375 \nQ 14.796875 37.203125 14.796875 27.296875 \nz\n\" id=\"DejaVuSans-100\"/>\n        <path d=\"M 34.28125 27.484375 \nQ 23.390625 27.484375 19.1875 25 \nQ 14.984375 22.515625 14.984375 16.5 \nQ 14.984375 11.71875 18.140625 8.90625 \nQ 21.296875 6.109375 26.703125 6.109375 \nQ 34.1875 6.109375 38.703125 11.40625 \nQ 43.21875 16.703125 43.21875 25.484375 \nL 43.21875 27.484375 \nz\nM 52.203125 31.203125 \nL 52.203125 0 \nL 43.21875 0 \nL 43.21875 8.296875 \nQ 40.140625 3.328125 35.546875 0.953125 \nQ 30.953125 -1.421875 24.3125 -1.421875 \nQ 15.921875 -1.421875 10.953125 3.296875 \nQ 6 8.015625 6 15.921875 \nQ 6 25.140625 12.171875 29.828125 \nQ 18.359375 34.515625 30.609375 34.515625 \nL 43.21875 34.515625 \nL 43.21875 35.40625 \nQ 43.21875 41.609375 39.140625 45 \nQ 35.0625 48.390625 27.6875 48.390625 \nQ 23 48.390625 18.546875 47.265625 \nQ 14.109375 46.140625 10.015625 43.890625 \nL 10.015625 52.203125 \nQ 14.9375 54.109375 19.578125 55.046875 \nQ 24.21875 56 28.609375 56 \nQ 40.484375 56 46.34375 49.84375 \nQ 52.203125 43.703125 52.203125 31.203125 \nz\n\" id=\"DejaVuSans-97\"/>\n        <path d=\"M 18.3125 70.21875 \nL 18.3125 54.6875 \nL 36.8125 54.6875 \nL 36.8125 47.703125 \nL 18.3125 47.703125 \nL 18.3125 18.015625 \nQ 18.3125 11.328125 20.140625 9.421875 \nQ 21.96875 7.515625 27.59375 7.515625 \nL 36.8125 7.515625 \nL 36.8125 0 \nL 27.59375 0 \nQ 17.1875 0 13.234375 3.875 \nQ 9.28125 7.765625 9.28125 18.015625 \nL 9.28125 47.703125 \nL 2.6875 47.703125 \nL 2.6875 54.6875 \nL 9.28125 54.6875 \nL 9.28125 70.21875 \nz\n\" id=\"DejaVuSans-116\"/>\n       </defs>\n       <use xlink:href=\"#DejaVuSans-100\"/>\n       <use x=\"63.476562\" xlink:href=\"#DejaVuSans-97\"/>\n       <use x=\"124.755859\" xlink:href=\"#DejaVuSans-116\"/>\n       <use x=\"163.964844\" xlink:href=\"#DejaVuSans-97\"/>\n      </g>\n     </g>\n    </g>\n    <g id=\"xtick_2\">\n     <g id=\"line2d_2\">\n      <g>\n       <use style=\"stroke:#000000;stroke-width:0.8;\" x=\"83.5075\" xlink:href=\"#m6835483971\" y=\"224.64\"/>\n      </g>\n     </g>\n     <g id=\"text_2\">\n      <!-- user -->\n      <g transform=\"translate(86.266875 253.450937)rotate(-90)scale(0.1 -0.1)\">\n       <defs>\n        <path d=\"M 8.5 21.578125 \nL 8.5 54.6875 \nL 17.484375 54.6875 \nL 17.484375 21.921875 \nQ 17.484375 14.15625 20.5 10.265625 \nQ 23.53125 6.390625 29.59375 6.390625 \nQ 36.859375 6.390625 41.078125 11.03125 \nQ 45.3125 15.671875 45.3125 23.6875 \nL 45.3125 54.6875 \nL 54.296875 54.6875 \nL 54.296875 0 \nL 45.3125 0 \nL 45.3125 8.40625 \nQ 42.046875 3.421875 37.71875 1 \nQ 33.40625 -1.421875 27.6875 -1.421875 \nQ 18.265625 -1.421875 13.375 4.4375 \nQ 8.5 10.296875 8.5 21.578125 \nz\nM 31.109375 56 \nz\n\" id=\"DejaVuSans-117\"/>\n        <path d=\"M 44.28125 53.078125 \nL 44.28125 44.578125 \nQ 40.484375 46.53125 36.375 47.5 \nQ 32.28125 48.484375 27.875 48.484375 \nQ 21.1875 48.484375 17.84375 46.4375 \nQ 14.5 44.390625 14.5 40.28125 \nQ 14.5 37.15625 16.890625 35.375 \nQ 19.28125 33.59375 26.515625 31.984375 \nL 29.59375 31.296875 \nQ 39.15625 29.25 43.1875 25.515625 \nQ 47.21875 21.78125 47.21875 15.09375 \nQ 47.21875 7.46875 41.1875 3.015625 \nQ 35.15625 -1.421875 24.609375 -1.421875 \nQ 20.21875 -1.421875 15.453125 -0.5625 \nQ 10.6875 0.296875 5.421875 2 \nL 5.421875 11.28125 \nQ 10.40625 8.6875 15.234375 7.390625 \nQ 20.0625 6.109375 24.8125 6.109375 \nQ 31.15625 6.109375 34.5625 8.28125 \nQ 37.984375 10.453125 37.984375 14.40625 \nQ 37.984375 18.0625 35.515625 20.015625 \nQ 33.0625 21.96875 24.703125 23.78125 \nL 21.578125 24.515625 \nQ 13.234375 26.265625 9.515625 29.90625 \nQ 5.8125 33.546875 5.8125 39.890625 \nQ 5.8125 47.609375 11.28125 51.796875 \nQ 16.75 56 26.8125 56 \nQ 31.78125 56 36.171875 55.265625 \nQ 40.578125 54.546875 44.28125 53.078125 \nz\n\" id=\"DejaVuSans-115\"/>\n        <path d=\"M 56.203125 29.59375 \nL 56.203125 25.203125 \nL 14.890625 25.203125 \nQ 15.484375 15.921875 20.484375 11.0625 \nQ 25.484375 6.203125 34.421875 6.203125 \nQ 39.59375 6.203125 44.453125 7.46875 \nQ 49.3125 8.734375 54.109375 11.28125 \nL 54.109375 2.78125 \nQ 49.265625 0.734375 44.1875 -0.34375 \nQ 39.109375 -1.421875 33.890625 -1.421875 \nQ 20.796875 -1.421875 13.15625 6.1875 \nQ 5.515625 13.8125 5.515625 26.8125 \nQ 5.515625 40.234375 12.765625 48.109375 \nQ 20.015625 56 32.328125 56 \nQ 43.359375 56 49.78125 48.890625 \nQ 56.203125 41.796875 56.203125 29.59375 \nz\nM 47.21875 32.234375 \nQ 47.125 39.59375 43.09375 43.984375 \nQ 39.0625 48.390625 32.421875 48.390625 \nQ 24.90625 48.390625 20.390625 44.140625 \nQ 15.875 39.890625 15.1875 32.171875 \nz\n\" id=\"DejaVuSans-101\"/>\n        <path d=\"M 41.109375 46.296875 \nQ 39.59375 47.171875 37.8125 47.578125 \nQ 36.03125 48 33.890625 48 \nQ 26.265625 48 22.1875 43.046875 \nQ 18.109375 38.09375 18.109375 28.8125 \nL 18.109375 0 \nL 9.078125 0 \nL 9.078125 54.6875 \nL 18.109375 54.6875 \nL 18.109375 46.1875 \nQ 20.953125 51.171875 25.484375 53.578125 \nQ 30.03125 56 36.53125 56 \nQ 37.453125 56 38.578125 55.875 \nQ 39.703125 55.765625 41.0625 55.515625 \nz\n\" id=\"DejaVuSans-114\"/>\n       </defs>\n       <use xlink:href=\"#DejaVuSans-117\"/>\n       <use x=\"63.378906\" xlink:href=\"#DejaVuSans-115\"/>\n       <use x=\"115.478516\" xlink:href=\"#DejaVuSans-101\"/>\n       <use x=\"177.001953\" xlink:href=\"#DejaVuSans-114\"/>\n      </g>\n     </g>\n    </g>\n    <g id=\"xtick_3\">\n     <g id=\"line2d_3\">\n      <g>\n       <use style=\"stroke:#000000;stroke-width:0.8;\" x=\"116.9875\" xlink:href=\"#m6835483971\" y=\"224.64\"/>\n      </g>\n     </g>\n     <g id=\"text_3\">\n      <!-- able -->\n      <g transform=\"translate(119.746875 253.047812)rotate(-90)scale(0.1 -0.1)\">\n       <defs>\n        <path d=\"M 48.6875 27.296875 \nQ 48.6875 37.203125 44.609375 42.84375 \nQ 40.53125 48.484375 33.40625 48.484375 \nQ 26.265625 48.484375 22.1875 42.84375 \nQ 18.109375 37.203125 18.109375 27.296875 \nQ 18.109375 17.390625 22.1875 11.75 \nQ 26.265625 6.109375 33.40625 6.109375 \nQ 40.53125 6.109375 44.609375 11.75 \nQ 48.6875 17.390625 48.6875 27.296875 \nz\nM 18.109375 46.390625 \nQ 20.953125 51.265625 25.265625 53.625 \nQ 29.59375 56 35.59375 56 \nQ 45.5625 56 51.78125 48.09375 \nQ 58.015625 40.1875 58.015625 27.296875 \nQ 58.015625 14.40625 51.78125 6.484375 \nQ 45.5625 -1.421875 35.59375 -1.421875 \nQ 29.59375 -1.421875 25.265625 0.953125 \nQ 20.953125 3.328125 18.109375 8.203125 \nL 18.109375 0 \nL 9.078125 0 \nL 9.078125 75.984375 \nL 18.109375 75.984375 \nz\n\" id=\"DejaVuSans-98\"/>\n        <path d=\"M 9.421875 75.984375 \nL 18.40625 75.984375 \nL 18.40625 0 \nL 9.421875 0 \nz\n\" id=\"DejaVuSans-108\"/>\n       </defs>\n       <use xlink:href=\"#DejaVuSans-97\"/>\n       <use x=\"61.279297\" xlink:href=\"#DejaVuSans-98\"/>\n       <use x=\"124.755859\" xlink:href=\"#DejaVuSans-108\"/>\n       <use x=\"152.539062\" xlink:href=\"#DejaVuSans-101\"/>\n      </g>\n     </g>\n    </g>\n    <g id=\"xtick_4\">\n     <g id=\"line2d_4\">\n      <g>\n       <use style=\"stroke:#000000;stroke-width:0.8;\" x=\"150.4675\" xlink:href=\"#m6835483971\" y=\"224.64\"/>\n      </g>\n     </g>\n     <g id=\"text_4\">\n      <!-- know -->\n      <g transform=\"translate(153.226875 258.065)rotate(-90)scale(0.1 -0.1)\">\n       <defs>\n        <path d=\"M 9.078125 75.984375 \nL 18.109375 75.984375 \nL 18.109375 31.109375 \nL 44.921875 54.6875 \nL 56.390625 54.6875 \nL 27.390625 29.109375 \nL 57.625 0 \nL 45.90625 0 \nL 18.109375 26.703125 \nL 18.109375 0 \nL 9.078125 0 \nz\n\" id=\"DejaVuSans-107\"/>\n        <path d=\"M 54.890625 33.015625 \nL 54.890625 0 \nL 45.90625 0 \nL 45.90625 32.71875 \nQ 45.90625 40.484375 42.875 44.328125 \nQ 39.84375 48.1875 33.796875 48.1875 \nQ 26.515625 48.1875 22.3125 43.546875 \nQ 18.109375 38.921875 18.109375 30.90625 \nL 18.109375 0 \nL 9.078125 0 \nL 9.078125 54.6875 \nL 18.109375 54.6875 \nL 18.109375 46.1875 \nQ 21.34375 51.125 25.703125 53.5625 \nQ 30.078125 56 35.796875 56 \nQ 45.21875 56 50.046875 50.171875 \nQ 54.890625 44.34375 54.890625 33.015625 \nz\n\" id=\"DejaVuSans-110\"/>\n        <path d=\"M 30.609375 48.390625 \nQ 23.390625 48.390625 19.1875 42.75 \nQ 14.984375 37.109375 14.984375 27.296875 \nQ 14.984375 17.484375 19.15625 11.84375 \nQ 23.34375 6.203125 30.609375 6.203125 \nQ 37.796875 6.203125 41.984375 11.859375 \nQ 46.1875 17.53125 46.1875 27.296875 \nQ 46.1875 37.015625 41.984375 42.703125 \nQ 37.796875 48.390625 30.609375 48.390625 \nz\nM 30.609375 56 \nQ 42.328125 56 49.015625 48.375 \nQ 55.71875 40.765625 55.71875 27.296875 \nQ 55.71875 13.875 49.015625 6.21875 \nQ 42.328125 -1.421875 30.609375 -1.421875 \nQ 18.84375 -1.421875 12.171875 6.21875 \nQ 5.515625 13.875 5.515625 27.296875 \nQ 5.515625 40.765625 12.171875 48.375 \nQ 18.84375 56 30.609375 56 \nz\n\" id=\"DejaVuSans-111\"/>\n        <path d=\"M 4.203125 54.6875 \nL 13.1875 54.6875 \nL 24.421875 12.015625 \nL 35.59375 54.6875 \nL 46.1875 54.6875 \nL 57.421875 12.015625 \nL 68.609375 54.6875 \nL 77.59375 54.6875 \nL 63.28125 0 \nL 52.6875 0 \nL 40.921875 44.828125 \nL 29.109375 0 \nL 18.5 0 \nz\n\" id=\"DejaVuSans-119\"/>\n       </defs>\n       <use xlink:href=\"#DejaVuSans-107\"/>\n       <use x=\"57.910156\" xlink:href=\"#DejaVuSans-110\"/>\n       <use x=\"121.289062\" xlink:href=\"#DejaVuSans-111\"/>\n       <use x=\"182.470703\" xlink:href=\"#DejaVuSans-119\"/>\n      </g>\n     </g>\n    </g>\n    <g id=\"xtick_5\">\n     <g id=\"line2d_5\">\n      <g>\n       <use style=\"stroke:#000000;stroke-width:0.8;\" x=\"183.9475\" xlink:href=\"#m6835483971\" y=\"224.64\"/>\n      </g>\n     </g>\n     <g id=\"text_5\">\n      <!-- dataset -->\n      <g transform=\"translate(186.706875 269.447812)rotate(-90)scale(0.1 -0.1)\">\n       <use xlink:href=\"#DejaVuSans-100\"/>\n       <use x=\"63.476562\" xlink:href=\"#DejaVuSans-97\"/>\n       <use x=\"124.755859\" xlink:href=\"#DejaVuSans-116\"/>\n       <use x=\"163.964844\" xlink:href=\"#DejaVuSans-97\"/>\n       <use x=\"225.244141\" xlink:href=\"#DejaVuSans-115\"/>\n       <use x=\"277.34375\" xlink:href=\"#DejaVuSans-101\"/>\n       <use x=\"338.867188\" xlink:href=\"#DejaVuSans-116\"/>\n      </g>\n     </g>\n    </g>\n    <g id=\"xtick_6\">\n     <g id=\"line2d_6\">\n      <g>\n       <use style=\"stroke:#000000;stroke-width:0.8;\" x=\"217.4275\" xlink:href=\"#m6835483971\" y=\"224.64\"/>\n      </g>\n     </g>\n     <g id=\"text_6\">\n      <!-- repository -->\n      <g transform=\"translate(220.186875 282.2025)rotate(-90)scale(0.1 -0.1)\">\n       <defs>\n        <path d=\"M 18.109375 8.203125 \nL 18.109375 -20.796875 \nL 9.078125 -20.796875 \nL 9.078125 54.6875 \nL 18.109375 54.6875 \nL 18.109375 46.390625 \nQ 20.953125 51.265625 25.265625 53.625 \nQ 29.59375 56 35.59375 56 \nQ 45.5625 56 51.78125 48.09375 \nQ 58.015625 40.1875 58.015625 27.296875 \nQ 58.015625 14.40625 51.78125 6.484375 \nQ 45.5625 -1.421875 35.59375 -1.421875 \nQ 29.59375 -1.421875 25.265625 0.953125 \nQ 20.953125 3.328125 18.109375 8.203125 \nz\nM 48.6875 27.296875 \nQ 48.6875 37.203125 44.609375 42.84375 \nQ 40.53125 48.484375 33.40625 48.484375 \nQ 26.265625 48.484375 22.1875 42.84375 \nQ 18.109375 37.203125 18.109375 27.296875 \nQ 18.109375 17.390625 22.1875 11.75 \nQ 26.265625 6.109375 33.40625 6.109375 \nQ 40.53125 6.109375 44.609375 11.75 \nQ 48.6875 17.390625 48.6875 27.296875 \nz\n\" id=\"DejaVuSans-112\"/>\n        <path d=\"M 9.421875 54.6875 \nL 18.40625 54.6875 \nL 18.40625 0 \nL 9.421875 0 \nz\nM 9.421875 75.984375 \nL 18.40625 75.984375 \nL 18.40625 64.59375 \nL 9.421875 64.59375 \nz\n\" id=\"DejaVuSans-105\"/>\n        <path d=\"M 32.171875 -5.078125 \nQ 28.375 -14.84375 24.75 -17.8125 \nQ 21.140625 -20.796875 15.09375 -20.796875 \nL 7.90625 -20.796875 \nL 7.90625 -13.28125 \nL 13.1875 -13.28125 \nQ 16.890625 -13.28125 18.9375 -11.515625 \nQ 21 -9.765625 23.484375 -3.21875 \nL 25.09375 0.875 \nL 2.984375 54.6875 \nL 12.5 54.6875 \nL 29.59375 11.921875 \nL 46.6875 54.6875 \nL 56.203125 54.6875 \nz\n\" id=\"DejaVuSans-121\"/>\n       </defs>\n       <use xlink:href=\"#DejaVuSans-114\"/>\n       <use x=\"38.863281\" xlink:href=\"#DejaVuSans-101\"/>\n       <use x=\"100.386719\" xlink:href=\"#DejaVuSans-112\"/>\n       <use x=\"163.863281\" xlink:href=\"#DejaVuSans-111\"/>\n       <use x=\"225.044922\" xlink:href=\"#DejaVuSans-115\"/>\n       <use x=\"277.144531\" xlink:href=\"#DejaVuSans-105\"/>\n       <use x=\"304.927734\" xlink:href=\"#DejaVuSans-116\"/>\n       <use x=\"344.136719\" xlink:href=\"#DejaVuSans-111\"/>\n       <use x=\"405.318359\" xlink:href=\"#DejaVuSans-114\"/>\n       <use x=\"446.431641\" xlink:href=\"#DejaVuSans-121\"/>\n      </g>\n     </g>\n    </g>\n    <g id=\"xtick_7\">\n     <g id=\"line2d_7\">\n      <g>\n       <use style=\"stroke:#000000;stroke-width:0.8;\" x=\"250.9075\" xlink:href=\"#m6835483971\" y=\"224.64\"/>\n      </g>\n     </g>\n     <g id=\"text_7\">\n      <!-- member -->\n      <g transform=\"translate(253.666875 273.886875)rotate(-90)scale(0.1 -0.1)\">\n       <defs>\n        <path d=\"M 52 44.1875 \nQ 55.375 50.25 60.0625 53.125 \nQ 64.75 56 71.09375 56 \nQ 79.640625 56 84.28125 50.015625 \nQ 88.921875 44.046875 88.921875 33.015625 \nL 88.921875 0 \nL 79.890625 0 \nL 79.890625 32.71875 \nQ 79.890625 40.578125 77.09375 44.375 \nQ 74.3125 48.1875 68.609375 48.1875 \nQ 61.625 48.1875 57.5625 43.546875 \nQ 53.515625 38.921875 53.515625 30.90625 \nL 53.515625 0 \nL 44.484375 0 \nL 44.484375 32.71875 \nQ 44.484375 40.625 41.703125 44.40625 \nQ 38.921875 48.1875 33.109375 48.1875 \nQ 26.21875 48.1875 22.15625 43.53125 \nQ 18.109375 38.875 18.109375 30.90625 \nL 18.109375 0 \nL 9.078125 0 \nL 9.078125 54.6875 \nL 18.109375 54.6875 \nL 18.109375 46.1875 \nQ 21.1875 51.21875 25.484375 53.609375 \nQ 29.78125 56 35.6875 56 \nQ 41.65625 56 45.828125 52.96875 \nQ 50 49.953125 52 44.1875 \nz\n\" id=\"DejaVuSans-109\"/>\n       </defs>\n       <use xlink:href=\"#DejaVuSans-109\"/>\n       <use x=\"97.412109\" xlink:href=\"#DejaVuSans-101\"/>\n       <use x=\"158.935547\" xlink:href=\"#DejaVuSans-109\"/>\n       <use x=\"256.347656\" xlink:href=\"#DejaVuSans-98\"/>\n       <use x=\"319.824219\" xlink:href=\"#DejaVuSans-101\"/>\n       <use x=\"381.347656\" xlink:href=\"#DejaVuSans-114\"/>\n      </g>\n     </g>\n    </g>\n    <g id=\"xtick_8\">\n     <g id=\"line2d_8\">\n      <g>\n       <use style=\"stroke:#000000;stroke-width:0.8;\" x=\"284.3875\" xlink:href=\"#m6835483971\" y=\"224.64\"/>\n      </g>\n     </g>\n     <g id=\"text_8\">\n      <!-- manager -->\n      <g transform=\"translate(287.146875 276.586875)rotate(-90)scale(0.1 -0.1)\">\n       <defs>\n        <path d=\"M 45.40625 27.984375 \nQ 45.40625 37.75 41.375 43.109375 \nQ 37.359375 48.484375 30.078125 48.484375 \nQ 22.859375 48.484375 18.828125 43.109375 \nQ 14.796875 37.75 14.796875 27.984375 \nQ 14.796875 18.265625 18.828125 12.890625 \nQ 22.859375 7.515625 30.078125 7.515625 \nQ 37.359375 7.515625 41.375 12.890625 \nQ 45.40625 18.265625 45.40625 27.984375 \nz\nM 54.390625 6.78125 \nQ 54.390625 -7.171875 48.1875 -13.984375 \nQ 42 -20.796875 29.203125 -20.796875 \nQ 24.46875 -20.796875 20.265625 -20.09375 \nQ 16.0625 -19.390625 12.109375 -17.921875 \nL 12.109375 -9.1875 \nQ 16.0625 -11.328125 19.921875 -12.34375 \nQ 23.78125 -13.375 27.78125 -13.375 \nQ 36.625 -13.375 41.015625 -8.765625 \nQ 45.40625 -4.15625 45.40625 5.171875 \nL 45.40625 9.625 \nQ 42.625 4.78125 38.28125 2.390625 \nQ 33.9375 0 27.875 0 \nQ 17.828125 0 11.671875 7.65625 \nQ 5.515625 15.328125 5.515625 27.984375 \nQ 5.515625 40.671875 11.671875 48.328125 \nQ 17.828125 56 27.875 56 \nQ 33.9375 56 38.28125 53.609375 \nQ 42.625 51.21875 45.40625 46.390625 \nL 45.40625 54.6875 \nL 54.390625 54.6875 \nz\n\" id=\"DejaVuSans-103\"/>\n       </defs>\n       <use xlink:href=\"#DejaVuSans-109\"/>\n       <use x=\"97.412109\" xlink:href=\"#DejaVuSans-97\"/>\n       <use x=\"158.691406\" xlink:href=\"#DejaVuSans-110\"/>\n       <use x=\"222.070312\" xlink:href=\"#DejaVuSans-97\"/>\n       <use x=\"283.349609\" xlink:href=\"#DejaVuSans-103\"/>\n       <use x=\"346.826172\" xlink:href=\"#DejaVuSans-101\"/>\n       <use x=\"408.349609\" xlink:href=\"#DejaVuSans-114\"/>\n      </g>\n     </g>\n    </g>\n    <g id=\"xtick_9\">\n     <g id=\"line2d_9\">\n      <g>\n       <use style=\"stroke:#000000;stroke-width:0.8;\" x=\"317.8675\" xlink:href=\"#m6835483971\" y=\"224.64\"/>\n      </g>\n     </g>\n     <g id=\"text_9\">\n      <!-- use -->\n      <g transform=\"translate(320.626875 249.34)rotate(-90)scale(0.1 -0.1)\">\n       <use xlink:href=\"#DejaVuSans-117\"/>\n       <use x=\"63.378906\" xlink:href=\"#DejaVuSans-115\"/>\n       <use x=\"115.478516\" xlink:href=\"#DejaVuSans-101\"/>\n      </g>\n     </g>\n    </g>\n    <g id=\"xtick_10\">\n     <g id=\"line2d_10\">\n      <g>\n       <use style=\"stroke:#000000;stroke-width:0.8;\" x=\"351.3475\" xlink:href=\"#m6835483971\" y=\"224.64\"/>\n      </g>\n     </g>\n     <g id=\"text_10\">\n      <!-- see -->\n      <g transform=\"translate(354.106875 249.155625)rotate(-90)scale(0.1 -0.1)\">\n       <use xlink:href=\"#DejaVuSans-115\"/>\n       <use x=\"52.099609\" xlink:href=\"#DejaVuSans-101\"/>\n       <use x=\"113.623047\" xlink:href=\"#DejaVuSans-101\"/>\n      </g>\n     </g>\n    </g>\n    <g id=\"text_11\">\n     <!-- word -->\n     <g transform=\"translate(188.396875 293.800937)scale(0.1 -0.1)\">\n      <use xlink:href=\"#DejaVuSans-119\"/>\n      <use x=\"81.787109\" xlink:href=\"#DejaVuSans-111\"/>\n      <use x=\"142.96875\" xlink:href=\"#DejaVuSans-114\"/>\n      <use x=\"182.332031\" xlink:href=\"#DejaVuSans-100\"/>\n     </g>\n    </g>\n   </g>\n   <g id=\"matplotlib.axis_2\">\n    <g id=\"ytick_1\">\n     <g id=\"line2d_11\">\n      <defs>\n       <path d=\"M 0 0 \nL -3.5 0 \n\" id=\"md763b59b7b\" style=\"stroke:#000000;stroke-width:0.8;\"/>\n      </defs>\n      <g>\n       <use style=\"stroke:#000000;stroke-width:0.8;\" x=\"33.2875\" xlink:href=\"#md763b59b7b\" y=\"224.64\"/>\n      </g>\n     </g>\n     <g id=\"text_12\">\n      <!-- 0 -->\n      <g transform=\"translate(19.925 228.439219)scale(0.1 -0.1)\">\n       <defs>\n        <path d=\"M 31.78125 66.40625 \nQ 24.171875 66.40625 20.328125 58.90625 \nQ 16.5 51.421875 16.5 36.375 \nQ 16.5 21.390625 20.328125 13.890625 \nQ 24.171875 6.390625 31.78125 6.390625 \nQ 39.453125 6.390625 43.28125 13.890625 \nQ 47.125 21.390625 47.125 36.375 \nQ 47.125 51.421875 43.28125 58.90625 \nQ 39.453125 66.40625 31.78125 66.40625 \nz\nM 31.78125 74.21875 \nQ 44.046875 74.21875 50.515625 64.515625 \nQ 56.984375 54.828125 56.984375 36.375 \nQ 56.984375 17.96875 50.515625 8.265625 \nQ 44.046875 -1.421875 31.78125 -1.421875 \nQ 19.53125 -1.421875 13.0625 8.265625 \nQ 6.59375 17.96875 6.59375 36.375 \nQ 6.59375 54.828125 13.0625 64.515625 \nQ 19.53125 74.21875 31.78125 74.21875 \nz\n\" id=\"DejaVuSans-48\"/>\n       </defs>\n       <use xlink:href=\"#DejaVuSans-48\"/>\n      </g>\n     </g>\n    </g>\n    <g id=\"ytick_2\">\n     <g id=\"line2d_12\">\n      <g>\n       <use style=\"stroke:#000000;stroke-width:0.8;\" x=\"33.2875\" xlink:href=\"#md763b59b7b\" y=\"183.305526\"/>\n      </g>\n     </g>\n     <g id=\"text_13\">\n      <!-- 100 -->\n      <g transform=\"translate(7.2 187.104745)scale(0.1 -0.1)\">\n       <defs>\n        <path d=\"M 12.40625 8.296875 \nL 28.515625 8.296875 \nL 28.515625 63.921875 \nL 10.984375 60.40625 \nL 10.984375 69.390625 \nL 28.421875 72.90625 \nL 38.28125 72.90625 \nL 38.28125 8.296875 \nL 54.390625 8.296875 \nL 54.390625 0 \nL 12.40625 0 \nz\n\" id=\"DejaVuSans-49\"/>\n       </defs>\n       <use xlink:href=\"#DejaVuSans-49\"/>\n       <use x=\"63.623047\" xlink:href=\"#DejaVuSans-48\"/>\n       <use x=\"127.246094\" xlink:href=\"#DejaVuSans-48\"/>\n      </g>\n     </g>\n    </g>\n    <g id=\"ytick_3\">\n     <g id=\"line2d_13\">\n      <g>\n       <use style=\"stroke:#000000;stroke-width:0.8;\" x=\"33.2875\" xlink:href=\"#md763b59b7b\" y=\"141.971052\"/>\n      </g>\n     </g>\n     <g id=\"text_14\">\n      <!-- 200 -->\n      <g transform=\"translate(7.2 145.770271)scale(0.1 -0.1)\">\n       <defs>\n        <path d=\"M 19.1875 8.296875 \nL 53.609375 8.296875 \nL 53.609375 0 \nL 7.328125 0 \nL 7.328125 8.296875 \nQ 12.9375 14.109375 22.625 23.890625 \nQ 32.328125 33.6875 34.8125 36.53125 \nQ 39.546875 41.84375 41.421875 45.53125 \nQ 43.3125 49.21875 43.3125 52.78125 \nQ 43.3125 58.59375 39.234375 62.25 \nQ 35.15625 65.921875 28.609375 65.921875 \nQ 23.96875 65.921875 18.8125 64.3125 \nQ 13.671875 62.703125 7.8125 59.421875 \nL 7.8125 69.390625 \nQ 13.765625 71.78125 18.9375 73 \nQ 24.125 74.21875 28.421875 74.21875 \nQ 39.75 74.21875 46.484375 68.546875 \nQ 53.21875 62.890625 53.21875 53.421875 \nQ 53.21875 48.921875 51.53125 44.890625 \nQ 49.859375 40.875 45.40625 35.40625 \nQ 44.1875 33.984375 37.640625 27.21875 \nQ 31.109375 20.453125 19.1875 8.296875 \nz\n\" id=\"DejaVuSans-50\"/>\n       </defs>\n       <use xlink:href=\"#DejaVuSans-50\"/>\n       <use x=\"63.623047\" xlink:href=\"#DejaVuSans-48\"/>\n       <use x=\"127.246094\" xlink:href=\"#DejaVuSans-48\"/>\n      </g>\n     </g>\n    </g>\n    <g id=\"ytick_4\">\n     <g id=\"line2d_14\">\n      <g>\n       <use style=\"stroke:#000000;stroke-width:0.8;\" x=\"33.2875\" xlink:href=\"#md763b59b7b\" y=\"100.636578\"/>\n      </g>\n     </g>\n     <g id=\"text_15\">\n      <!-- 300 -->\n      <g transform=\"translate(7.2 104.435797)scale(0.1 -0.1)\">\n       <defs>\n        <path d=\"M 40.578125 39.3125 \nQ 47.65625 37.796875 51.625 33 \nQ 55.609375 28.21875 55.609375 21.1875 \nQ 55.609375 10.40625 48.1875 4.484375 \nQ 40.765625 -1.421875 27.09375 -1.421875 \nQ 22.515625 -1.421875 17.65625 -0.515625 \nQ 12.796875 0.390625 7.625 2.203125 \nL 7.625 11.71875 \nQ 11.71875 9.328125 16.59375 8.109375 \nQ 21.484375 6.890625 26.8125 6.890625 \nQ 36.078125 6.890625 40.9375 10.546875 \nQ 45.796875 14.203125 45.796875 21.1875 \nQ 45.796875 27.640625 41.28125 31.265625 \nQ 36.765625 34.90625 28.71875 34.90625 \nL 20.21875 34.90625 \nL 20.21875 43.015625 \nL 29.109375 43.015625 \nQ 36.375 43.015625 40.234375 45.921875 \nQ 44.09375 48.828125 44.09375 54.296875 \nQ 44.09375 59.90625 40.109375 62.90625 \nQ 36.140625 65.921875 28.71875 65.921875 \nQ 24.65625 65.921875 20.015625 65.03125 \nQ 15.375 64.15625 9.8125 62.3125 \nL 9.8125 71.09375 \nQ 15.4375 72.65625 20.34375 73.4375 \nQ 25.25 74.21875 29.59375 74.21875 \nQ 40.828125 74.21875 47.359375 69.109375 \nQ 53.90625 64.015625 53.90625 55.328125 \nQ 53.90625 49.265625 50.4375 45.09375 \nQ 46.96875 40.921875 40.578125 39.3125 \nz\n\" id=\"DejaVuSans-51\"/>\n       </defs>\n       <use xlink:href=\"#DejaVuSans-51\"/>\n       <use x=\"63.623047\" xlink:href=\"#DejaVuSans-48\"/>\n       <use x=\"127.246094\" xlink:href=\"#DejaVuSans-48\"/>\n      </g>\n     </g>\n    </g>\n    <g id=\"ytick_5\">\n     <g id=\"line2d_15\">\n      <g>\n       <use style=\"stroke:#000000;stroke-width:0.8;\" x=\"33.2875\" xlink:href=\"#md763b59b7b\" y=\"59.302104\"/>\n      </g>\n     </g>\n     <g id=\"text_16\">\n      <!-- 400 -->\n      <g transform=\"translate(7.2 63.101323)scale(0.1 -0.1)\">\n       <defs>\n        <path d=\"M 37.796875 64.3125 \nL 12.890625 25.390625 \nL 37.796875 25.390625 \nz\nM 35.203125 72.90625 \nL 47.609375 72.90625 \nL 47.609375 25.390625 \nL 58.015625 25.390625 \nL 58.015625 17.1875 \nL 47.609375 17.1875 \nL 47.609375 0 \nL 37.796875 0 \nL 37.796875 17.1875 \nL 4.890625 17.1875 \nL 4.890625 26.703125 \nz\n\" id=\"DejaVuSans-52\"/>\n       </defs>\n       <use xlink:href=\"#DejaVuSans-52\"/>\n       <use x=\"63.623047\" xlink:href=\"#DejaVuSans-48\"/>\n       <use x=\"127.246094\" xlink:href=\"#DejaVuSans-48\"/>\n      </g>\n     </g>\n    </g>\n    <g id=\"ytick_6\">\n     <g id=\"line2d_16\">\n      <g>\n       <use style=\"stroke:#000000;stroke-width:0.8;\" x=\"33.2875\" xlink:href=\"#md763b59b7b\" y=\"17.96763\"/>\n      </g>\n     </g>\n     <g id=\"text_17\">\n      <!-- 500 -->\n      <g transform=\"translate(7.2 21.766849)scale(0.1 -0.1)\">\n       <defs>\n        <path d=\"M 10.796875 72.90625 \nL 49.515625 72.90625 \nL 49.515625 64.59375 \nL 19.828125 64.59375 \nL 19.828125 46.734375 \nQ 21.96875 47.46875 24.109375 47.828125 \nQ 26.265625 48.1875 28.421875 48.1875 \nQ 40.625 48.1875 47.75 41.5 \nQ 54.890625 34.8125 54.890625 23.390625 \nQ 54.890625 11.625 47.5625 5.09375 \nQ 40.234375 -1.421875 26.90625 -1.421875 \nQ 22.3125 -1.421875 17.546875 -0.640625 \nQ 12.796875 0.140625 7.71875 1.703125 \nL 7.71875 11.625 \nQ 12.109375 9.234375 16.796875 8.0625 \nQ 21.484375 6.890625 26.703125 6.890625 \nQ 35.15625 6.890625 40.078125 11.328125 \nQ 45.015625 15.765625 45.015625 23.390625 \nQ 45.015625 31 40.078125 35.4375 \nQ 35.15625 39.890625 26.703125 39.890625 \nQ 22.75 39.890625 18.8125 39.015625 \nQ 14.890625 38.140625 10.796875 36.28125 \nz\n\" id=\"DejaVuSans-53\"/>\n       </defs>\n       <use xlink:href=\"#DejaVuSans-53\"/>\n       <use x=\"63.623047\" xlink:href=\"#DejaVuSans-48\"/>\n       <use x=\"127.246094\" xlink:href=\"#DejaVuSans-48\"/>\n      </g>\n     </g>\n    </g>\n   </g>\n   <g id=\"patch_13\">\n    <path d=\"M 33.2875 224.64 \nL 33.2875 7.2 \n\" style=\"fill:none;stroke:#000000;stroke-linecap:square;stroke-linejoin:miter;stroke-width:0.8;\"/>\n   </g>\n   <g id=\"patch_14\">\n    <path d=\"M 368.0875 224.64 \nL 368.0875 7.2 \n\" style=\"fill:none;stroke:#000000;stroke-linecap:square;stroke-linejoin:miter;stroke-width:0.8;\"/>\n   </g>\n   <g id=\"patch_15\">\n    <path d=\"M 33.2875 224.64 \nL 368.0875 224.64 \n\" style=\"fill:none;stroke:#000000;stroke-linecap:square;stroke-linejoin:miter;stroke-width:0.8;\"/>\n   </g>\n   <g id=\"patch_16\">\n    <path d=\"M 33.2875 7.2 \nL 368.0875 7.2 \n\" style=\"fill:none;stroke:#000000;stroke-linecap:square;stroke-linejoin:miter;stroke-width:0.8;\"/>\n   </g>\n   <g id=\"legend_1\">\n    <g id=\"patch_17\">\n     <path d=\"M 300.875 29.878125 \nL 361.0875 29.878125 \nQ 363.0875 29.878125 363.0875 27.878125 \nL 363.0875 14.2 \nQ 363.0875 12.2 361.0875 12.2 \nL 300.875 12.2 \nQ 298.875 12.2 298.875 14.2 \nL 298.875 27.878125 \nQ 298.875 29.878125 300.875 29.878125 \nz\n\" style=\"fill:#ffffff;opacity:0.8;stroke:#cccccc;stroke-linejoin:miter;\"/>\n    </g>\n    <g id=\"patch_18\">\n     <path d=\"M 302.875 23.798437 \nL 322.875 23.798437 \nL 322.875 16.798437 \nL 302.875 16.798437 \nz\n\" style=\"fill:#1f77b4;\"/>\n    </g>\n    <g id=\"text_18\">\n     <!-- count -->\n     <g transform=\"translate(330.875 23.798437)scale(0.1 -0.1)\">\n      <defs>\n       <path d=\"M 48.78125 52.59375 \nL 48.78125 44.1875 \nQ 44.96875 46.296875 41.140625 47.34375 \nQ 37.3125 48.390625 33.40625 48.390625 \nQ 24.65625 48.390625 19.8125 42.84375 \nQ 14.984375 37.3125 14.984375 27.296875 \nQ 14.984375 17.28125 19.8125 11.734375 \nQ 24.65625 6.203125 33.40625 6.203125 \nQ 37.3125 6.203125 41.140625 7.25 \nQ 44.96875 8.296875 48.78125 10.40625 \nL 48.78125 2.09375 \nQ 45.015625 0.34375 40.984375 -0.53125 \nQ 36.96875 -1.421875 32.421875 -1.421875 \nQ 20.0625 -1.421875 12.78125 6.34375 \nQ 5.515625 14.109375 5.515625 27.296875 \nQ 5.515625 40.671875 12.859375 48.328125 \nQ 20.21875 56 33.015625 56 \nQ 37.15625 56 41.109375 55.140625 \nQ 45.0625 54.296875 48.78125 52.59375 \nz\n\" id=\"DejaVuSans-99\"/>\n      </defs>\n      <use xlink:href=\"#DejaVuSans-99\"/>\n      <use x=\"54.980469\" xlink:href=\"#DejaVuSans-111\"/>\n      <use x=\"116.162109\" xlink:href=\"#DejaVuSans-117\"/>\n      <use x=\"179.541016\" xlink:href=\"#DejaVuSans-110\"/>\n      <use x=\"242.919922\" xlink:href=\"#DejaVuSans-116\"/>\n     </g>\n    </g>\n   </g>\n  </g>\n </g>\n <defs>\n  <clipPath id=\"p5a89f56e1a\">\n   <rect height=\"217.44\" width=\"334.8\" x=\"33.2875\" y=\"7.2\"/>\n  </clipPath>\n </defs>\n</svg>\n",
      "image/png": "[encoded data removed]"
     },
     "metadata": {
      "needs_background": "light"
     }
    }
   ]
  },
  {
   "source": [
    "As we can see above, the plot above showing that data"
   ],
   "cell_type": "markdown",
   "metadata": {}
  },
  {
   "source": [
    "### Question2: How many requierment in each file?"
   ],
   "cell_type": "markdown",
   "metadata": {}
  },
  {
   "cell_type": "code",
   "execution_count": 125,
   "metadata": {},
   "outputs": [
    {
     "output_type": "display_data",
     "data": {
      "text/plain": "<Figure size 432x288 with 1 Axes>",
      "image/svg+xml": "<?xml version=\"1.0\" encoding=\"utf-8\" standalone=\"no\"?>\n<!DOCTYPE svg PUBLIC \"-//W3C//DTD SVG 1.1//EN\"\n  \"http://www.w3.org/Graphics/SVG/1.1/DTD/svg11.dtd\">\n<!-- Created with matplotlib (https://matplotlib.org/) -->\n<svg height=\"262.474375pt\" version=\"1.1\" viewBox=\"0 0 423.764347 262.474375\" width=\"423.764347pt\" xmlns=\"http://www.w3.org/2000/svg\" xmlns:xlink=\"http://www.w3.org/1999/xlink\">\n <metadata>\n  <rdf:RDF xmlns:cc=\"http://creativecommons.org/ns#\" xmlns:dc=\"http://purl.org/dc/elements/1.1/\" xmlns:rdf=\"http://www.w3.org/1999/02/22-rdf-syntax-ns#\">\n   <cc:Work>\n    <dc:type rdf:resource=\"http://purl.org/dc/dcmitype/StillImage\"/>\n    <dc:date>2020-12-16T11:21:06.684502</dc:date>\n    <dc:format>image/svg+xml</dc:format>\n    <dc:creator>\n     <cc:Agent>\n      <dc:title>Matplotlib v3.3.2, https://matplotlib.org/</dc:title>\n     </cc:Agent>\n    </dc:creator>\n   </cc:Work>\n  </rdf:RDF>\n </metadata>\n <defs>\n  <style type=\"text/css\">*{stroke-linecap:butt;stroke-linejoin:round;}</style>\n </defs>\n <g id=\"figure_1\">\n  <g id=\"patch_1\">\n   <path d=\"M 0 262.474375 \nL 423.764347 262.474375 \nL 423.764347 0 \nL 0 0 \nz\n\" style=\"fill:none;\"/>\n  </g>\n  <g id=\"axes_1\">\n   <g id=\"patch_2\">\n    <path d=\"M 46.965625 224.64 \nL 381.765625 224.64 \nL 381.765625 7.2 \nL 46.965625 7.2 \nz\n\" style=\"fill:#ffffff;\"/>\n   </g>\n   <g id=\"patch_3\">\n    <path clip-path=\"url(#p864fdc1c86)\" d=\"M 48.487443 224.64 \nL 60.661989 224.64 \nL 60.661989 74.994119 \nL 48.487443 74.994119 \nz\n\" style=\"fill:#ea96a3;\"/>\n   </g>\n   <g id=\"patch_4\">\n    <path clip-path=\"url(#p864fdc1c86)\" d=\"M 63.705625 224.64 \nL 75.88017 224.64 \nL 75.88017 71.97097 \nL 63.705625 71.97097 \nz\n\" style=\"fill:#e89687;\"/>\n   </g>\n   <g id=\"patch_5\">\n    <path clip-path=\"url(#p864fdc1c86)\" d=\"M 78.923807 224.64 \nL 91.098352 224.64 \nL 91.098352 74.994119 \nL 78.923807 74.994119 \nz\n\" style=\"fill:#dc924e;\"/>\n   </g>\n   <g id=\"patch_6\">\n    <path clip-path=\"url(#p864fdc1c86)\" d=\"M 94.141989 224.64 \nL 106.316534 224.64 \nL 106.316534 135.457101 \nL 94.141989 135.457101 \nz\n\" style=\"fill:#c5994b;\"/>\n   </g>\n   <g id=\"patch_7\">\n    <path clip-path=\"url(#p864fdc1c86)\" d=\"M 109.36017 224.64 \nL 121.534716 224.64 \nL 121.534716 139.991825 \nL 109.36017 139.991825 \nz\n\" style=\"fill:#b39d48;\"/>\n   </g>\n   <g id=\"patch_8\">\n    <path clip-path=\"url(#p864fdc1c86)\" d=\"M 124.578352 224.64 \nL 136.752898 224.64 \nL 136.752898 138.48025 \nL 124.578352 138.48025 \nz\n\" style=\"fill:#a09f45;\"/>\n   </g>\n   <g id=\"patch_9\">\n    <path clip-path=\"url(#p864fdc1c86)\" d=\"M 139.796534 224.64 \nL 151.97108 224.64 \nL 151.97108 143.014974 \nL 139.796534 143.014974 \nz\n\" style=\"fill:#8ea546;\"/>\n   </g>\n   <g id=\"patch_10\">\n    <path clip-path=\"url(#p864fdc1c86)\" d=\"M 155.014716 224.64 \nL 167.189261 224.64 \nL 167.189261 124.876079 \nL 155.014716 124.876079 \nz\n\" style=\"fill:#71ac47;\"/>\n   </g>\n   <g id=\"patch_11\">\n    <path clip-path=\"url(#p864fdc1c86)\" d=\"M 170.232898 224.64 \nL 182.407443 224.64 \nL 182.407443 79.528843 \nL 170.232898 79.528843 \nz\n\" style=\"fill:#48b067;\"/>\n   </g>\n   <g id=\"patch_12\">\n    <path clip-path=\"url(#p864fdc1c86)\" d=\"M 185.45108 224.64 \nL 197.625625 224.64 \nL 197.625625 124.876079 \nL 185.45108 124.876079 \nz\n\" style=\"fill:#49ae87;\"/>\n   </g>\n   <g id=\"patch_13\">\n    <path clip-path=\"url(#p864fdc1c86)\" d=\"M 200.669261 224.64 \nL 212.843807 224.64 \nL 212.843807 78.017268 \nL 200.669261 78.017268 \nz\n\" style=\"fill:#4aac98;\"/>\n   </g>\n   <g id=\"patch_14\">\n    <path clip-path=\"url(#p864fdc1c86)\" d=\"M 215.887443 224.64 \nL 228.061989 224.64 \nL 228.061989 121.85293 \nL 215.887443 121.85293 \nz\n\" style=\"fill:#4baba4;\"/>\n   </g>\n   <g id=\"patch_15\">\n    <path clip-path=\"url(#p864fdc1c86)\" d=\"M 231.105625 224.64 \nL 243.28017 224.64 \nL 243.28017 17.554286 \nL 231.105625 17.554286 \nz\n\" style=\"fill:#4dabb0;\"/>\n   </g>\n   <g id=\"patch_16\">\n    <path clip-path=\"url(#p864fdc1c86)\" d=\"M 246.323807 224.64 \nL 258.498352 224.64 \nL 258.498352 146.038123 \nL 246.323807 146.038123 \nz\n\" style=\"fill:#50acbf;\"/>\n   </g>\n   <g id=\"patch_17\">\n    <path clip-path=\"url(#p864fdc1c86)\" d=\"M 261.541989 224.64 \nL 273.716534 224.64 \nL 273.716534 146.038123 \nL 261.541989 146.038123 \nz\n\" style=\"fill:#54acd3;\"/>\n   </g>\n   <g id=\"patch_18\">\n    <path clip-path=\"url(#p864fdc1c86)\" d=\"M 276.76017 224.64 \nL 288.934716 224.64 \nL 288.934716 100.690886 \nL 276.76017 100.690886 \nz\n\" style=\"fill:#82aee5;\"/>\n   </g>\n   <g id=\"patch_19\">\n    <path clip-path=\"url(#p864fdc1c86)\" d=\"M 291.978352 224.64 \nL 304.152898 224.64 \nL 304.152898 67.436246 \nL 291.978352 67.436246 \nz\n\" style=\"fill:#a9aceb;\"/>\n   </g>\n   <g id=\"patch_20\">\n    <path clip-path=\"url(#p864fdc1c86)\" d=\"M 307.196534 224.64 \nL 319.37108 224.64 \nL 319.37108 115.806632 \nL 307.196534 115.806632 \nz\n\" style=\"fill:#c1a2ea;\"/>\n   </g>\n   <g id=\"patch_21\">\n    <path clip-path=\"url(#p864fdc1c86)\" d=\"M 322.414716 224.64 \nL 334.589261 224.64 \nL 334.589261 124.876079 \nL 322.414716 124.876079 \nz\n\" style=\"fill:#d795e8;\"/>\n   </g>\n   <g id=\"patch_22\">\n    <path clip-path=\"url(#p864fdc1c86)\" d=\"M 337.632898 224.64 \nL 349.807443 224.64 \nL 349.807443 123.364505 \nL 337.632898 123.364505 \nz\n\" style=\"fill:#e78bdd;\"/>\n   </g>\n   <g id=\"patch_23\">\n    <path clip-path=\"url(#p864fdc1c86)\" d=\"M 352.85108 224.64 \nL 365.025625 224.64 \nL 365.025625 52.320501 \nL 352.85108 52.320501 \nz\n\" style=\"fill:#e88fc9;\"/>\n   </g>\n   <g id=\"patch_24\">\n    <path clip-path=\"url(#p864fdc1c86)\" d=\"M 368.069261 224.64 \nL 380.243807 224.64 \nL 380.243807 149.061272 \nL 368.069261 149.061272 \nz\n\" style=\"fill:#e993b7;\"/>\n   </g>\n   <g id=\"matplotlib.axis_1\">\n    <g id=\"xtick_1\">\n     <g id=\"line2d_1\">\n      <defs>\n       <path d=\"M 0 0 \nL 0 3.5 \n\" id=\"med25aadbdf\" style=\"stroke:#000000;stroke-width:0.8;\"/>\n      </defs>\n      <g>\n       <use style=\"stroke:#000000;stroke-width:0.8;\" x=\"54.574716\" xlink:href=\"#med25aadbdf\" y=\"224.64\"/>\n      </g>\n     </g>\n     <g id=\"text_1\">\n      <!-- g25-duraspace.txt -->\n      <g transform=\"translate(8.634091 239.238438)scale(0.1 -0.1)\">\n       <defs>\n        <path d=\"M 45.40625 27.984375 \nQ 45.40625 37.75 41.375 43.109375 \nQ 37.359375 48.484375 30.078125 48.484375 \nQ 22.859375 48.484375 18.828125 43.109375 \nQ 14.796875 37.75 14.796875 27.984375 \nQ 14.796875 18.265625 18.828125 12.890625 \nQ 22.859375 7.515625 30.078125 7.515625 \nQ 37.359375 7.515625 41.375 12.890625 \nQ 45.40625 18.265625 45.40625 27.984375 \nz\nM 54.390625 6.78125 \nQ 54.390625 -7.171875 48.1875 -13.984375 \nQ 42 -20.796875 29.203125 -20.796875 \nQ 24.46875 -20.796875 20.265625 -20.09375 \nQ 16.0625 -19.390625 12.109375 -17.921875 \nL 12.109375 -9.1875 \nQ 16.0625 -11.328125 19.921875 -12.34375 \nQ 23.78125 -13.375 27.78125 -13.375 \nQ 36.625 -13.375 41.015625 -8.765625 \nQ 45.40625 -4.15625 45.40625 5.171875 \nL 45.40625 9.625 \nQ 42.625 4.78125 38.28125 2.390625 \nQ 33.9375 0 27.875 0 \nQ 17.828125 0 11.671875 7.65625 \nQ 5.515625 15.328125 5.515625 27.984375 \nQ 5.515625 40.671875 11.671875 48.328125 \nQ 17.828125 56 27.875 56 \nQ 33.9375 56 38.28125 53.609375 \nQ 42.625 51.21875 45.40625 46.390625 \nL 45.40625 54.6875 \nL 54.390625 54.6875 \nz\n\" id=\"DejaVuSans-103\"/>\n        <path d=\"M 19.1875 8.296875 \nL 53.609375 8.296875 \nL 53.609375 0 \nL 7.328125 0 \nL 7.328125 8.296875 \nQ 12.9375 14.109375 22.625 23.890625 \nQ 32.328125 33.6875 34.8125 36.53125 \nQ 39.546875 41.84375 41.421875 45.53125 \nQ 43.3125 49.21875 43.3125 52.78125 \nQ 43.3125 58.59375 39.234375 62.25 \nQ 35.15625 65.921875 28.609375 65.921875 \nQ 23.96875 65.921875 18.8125 64.3125 \nQ 13.671875 62.703125 7.8125 59.421875 \nL 7.8125 69.390625 \nQ 13.765625 71.78125 18.9375 73 \nQ 24.125 74.21875 28.421875 74.21875 \nQ 39.75 74.21875 46.484375 68.546875 \nQ 53.21875 62.890625 53.21875 53.421875 \nQ 53.21875 48.921875 51.53125 44.890625 \nQ 49.859375 40.875 45.40625 35.40625 \nQ 44.1875 33.984375 37.640625 27.21875 \nQ 31.109375 20.453125 19.1875 8.296875 \nz\n\" id=\"DejaVuSans-50\"/>\n        <path d=\"M 10.796875 72.90625 \nL 49.515625 72.90625 \nL 49.515625 64.59375 \nL 19.828125 64.59375 \nL 19.828125 46.734375 \nQ 21.96875 47.46875 24.109375 47.828125 \nQ 26.265625 48.1875 28.421875 48.1875 \nQ 40.625 48.1875 47.75 41.5 \nQ 54.890625 34.8125 54.890625 23.390625 \nQ 54.890625 11.625 47.5625 5.09375 \nQ 40.234375 -1.421875 26.90625 -1.421875 \nQ 22.3125 -1.421875 17.546875 -0.640625 \nQ 12.796875 0.140625 7.71875 1.703125 \nL 7.71875 11.625 \nQ 12.109375 9.234375 16.796875 8.0625 \nQ 21.484375 6.890625 26.703125 6.890625 \nQ 35.15625 6.890625 40.078125 11.328125 \nQ 45.015625 15.765625 45.015625 23.390625 \nQ 45.015625 31 40.078125 35.4375 \nQ 35.15625 39.890625 26.703125 39.890625 \nQ 22.75 39.890625 18.8125 39.015625 \nQ 14.890625 38.140625 10.796875 36.28125 \nz\n\" id=\"DejaVuSans-53\"/>\n        <path d=\"M 4.890625 31.390625 \nL 31.203125 31.390625 \nL 31.203125 23.390625 \nL 4.890625 23.390625 \nz\n\" id=\"DejaVuSans-45\"/>\n        <path d=\"M 45.40625 46.390625 \nL 45.40625 75.984375 \nL 54.390625 75.984375 \nL 54.390625 0 \nL 45.40625 0 \nL 45.40625 8.203125 \nQ 42.578125 3.328125 38.25 0.953125 \nQ 33.9375 -1.421875 27.875 -1.421875 \nQ 17.96875 -1.421875 11.734375 6.484375 \nQ 5.515625 14.40625 5.515625 27.296875 \nQ 5.515625 40.1875 11.734375 48.09375 \nQ 17.96875 56 27.875 56 \nQ 33.9375 56 38.25 53.625 \nQ 42.578125 51.265625 45.40625 46.390625 \nz\nM 14.796875 27.296875 \nQ 14.796875 17.390625 18.875 11.75 \nQ 22.953125 6.109375 30.078125 6.109375 \nQ 37.203125 6.109375 41.296875 11.75 \nQ 45.40625 17.390625 45.40625 27.296875 \nQ 45.40625 37.203125 41.296875 42.84375 \nQ 37.203125 48.484375 30.078125 48.484375 \nQ 22.953125 48.484375 18.875 42.84375 \nQ 14.796875 37.203125 14.796875 27.296875 \nz\n\" id=\"DejaVuSans-100\"/>\n        <path d=\"M 8.5 21.578125 \nL 8.5 54.6875 \nL 17.484375 54.6875 \nL 17.484375 21.921875 \nQ 17.484375 14.15625 20.5 10.265625 \nQ 23.53125 6.390625 29.59375 6.390625 \nQ 36.859375 6.390625 41.078125 11.03125 \nQ 45.3125 15.671875 45.3125 23.6875 \nL 45.3125 54.6875 \nL 54.296875 54.6875 \nL 54.296875 0 \nL 45.3125 0 \nL 45.3125 8.40625 \nQ 42.046875 3.421875 37.71875 1 \nQ 33.40625 -1.421875 27.6875 -1.421875 \nQ 18.265625 -1.421875 13.375 4.4375 \nQ 8.5 10.296875 8.5 21.578125 \nz\nM 31.109375 56 \nz\n\" id=\"DejaVuSans-117\"/>\n        <path d=\"M 41.109375 46.296875 \nQ 39.59375 47.171875 37.8125 47.578125 \nQ 36.03125 48 33.890625 48 \nQ 26.265625 48 22.1875 43.046875 \nQ 18.109375 38.09375 18.109375 28.8125 \nL 18.109375 0 \nL 9.078125 0 \nL 9.078125 54.6875 \nL 18.109375 54.6875 \nL 18.109375 46.1875 \nQ 20.953125 51.171875 25.484375 53.578125 \nQ 30.03125 56 36.53125 56 \nQ 37.453125 56 38.578125 55.875 \nQ 39.703125 55.765625 41.0625 55.515625 \nz\n\" id=\"DejaVuSans-114\"/>\n        <path d=\"M 34.28125 27.484375 \nQ 23.390625 27.484375 19.1875 25 \nQ 14.984375 22.515625 14.984375 16.5 \nQ 14.984375 11.71875 18.140625 8.90625 \nQ 21.296875 6.109375 26.703125 6.109375 \nQ 34.1875 6.109375 38.703125 11.40625 \nQ 43.21875 16.703125 43.21875 25.484375 \nL 43.21875 27.484375 \nz\nM 52.203125 31.203125 \nL 52.203125 0 \nL 43.21875 0 \nL 43.21875 8.296875 \nQ 40.140625 3.328125 35.546875 0.953125 \nQ 30.953125 -1.421875 24.3125 -1.421875 \nQ 15.921875 -1.421875 10.953125 3.296875 \nQ 6 8.015625 6 15.921875 \nQ 6 25.140625 12.171875 29.828125 \nQ 18.359375 34.515625 30.609375 34.515625 \nL 43.21875 34.515625 \nL 43.21875 35.40625 \nQ 43.21875 41.609375 39.140625 45 \nQ 35.0625 48.390625 27.6875 48.390625 \nQ 23 48.390625 18.546875 47.265625 \nQ 14.109375 46.140625 10.015625 43.890625 \nL 10.015625 52.203125 \nQ 14.9375 54.109375 19.578125 55.046875 \nQ 24.21875 56 28.609375 56 \nQ 40.484375 56 46.34375 49.84375 \nQ 52.203125 43.703125 52.203125 31.203125 \nz\n\" id=\"DejaVuSans-97\"/>\n        <path d=\"M 44.28125 53.078125 \nL 44.28125 44.578125 \nQ 40.484375 46.53125 36.375 47.5 \nQ 32.28125 48.484375 27.875 48.484375 \nQ 21.1875 48.484375 17.84375 46.4375 \nQ 14.5 44.390625 14.5 40.28125 \nQ 14.5 37.15625 16.890625 35.375 \nQ 19.28125 33.59375 26.515625 31.984375 \nL 29.59375 31.296875 \nQ 39.15625 29.25 43.1875 25.515625 \nQ 47.21875 21.78125 47.21875 15.09375 \nQ 47.21875 7.46875 41.1875 3.015625 \nQ 35.15625 -1.421875 24.609375 -1.421875 \nQ 20.21875 -1.421875 15.453125 -0.5625 \nQ 10.6875 0.296875 5.421875 2 \nL 5.421875 11.28125 \nQ 10.40625 8.6875 15.234375 7.390625 \nQ 20.0625 6.109375 24.8125 6.109375 \nQ 31.15625 6.109375 34.5625 8.28125 \nQ 37.984375 10.453125 37.984375 14.40625 \nQ 37.984375 18.0625 35.515625 20.015625 \nQ 33.0625 21.96875 24.703125 23.78125 \nL 21.578125 24.515625 \nQ 13.234375 26.265625 9.515625 29.90625 \nQ 5.8125 33.546875 5.8125 39.890625 \nQ 5.8125 47.609375 11.28125 51.796875 \nQ 16.75 56 26.8125 56 \nQ 31.78125 56 36.171875 55.265625 \nQ 40.578125 54.546875 44.28125 53.078125 \nz\n\" id=\"DejaVuSans-115\"/>\n        <path d=\"M 18.109375 8.203125 \nL 18.109375 -20.796875 \nL 9.078125 -20.796875 \nL 9.078125 54.6875 \nL 18.109375 54.6875 \nL 18.109375 46.390625 \nQ 20.953125 51.265625 25.265625 53.625 \nQ 29.59375 56 35.59375 56 \nQ 45.5625 56 51.78125 48.09375 \nQ 58.015625 40.1875 58.015625 27.296875 \nQ 58.015625 14.40625 51.78125 6.484375 \nQ 45.5625 -1.421875 35.59375 -1.421875 \nQ 29.59375 -1.421875 25.265625 0.953125 \nQ 20.953125 3.328125 18.109375 8.203125 \nz\nM 48.6875 27.296875 \nQ 48.6875 37.203125 44.609375 42.84375 \nQ 40.53125 48.484375 33.40625 48.484375 \nQ 26.265625 48.484375 22.1875 42.84375 \nQ 18.109375 37.203125 18.109375 27.296875 \nQ 18.109375 17.390625 22.1875 11.75 \nQ 26.265625 6.109375 33.40625 6.109375 \nQ 40.53125 6.109375 44.609375 11.75 \nQ 48.6875 17.390625 48.6875 27.296875 \nz\n\" id=\"DejaVuSans-112\"/>\n        <path d=\"M 48.78125 52.59375 \nL 48.78125 44.1875 \nQ 44.96875 46.296875 41.140625 47.34375 \nQ 37.3125 48.390625 33.40625 48.390625 \nQ 24.65625 48.390625 19.8125 42.84375 \nQ 14.984375 37.3125 14.984375 27.296875 \nQ 14.984375 17.28125 19.8125 11.734375 \nQ 24.65625 6.203125 33.40625 6.203125 \nQ 37.3125 6.203125 41.140625 7.25 \nQ 44.96875 8.296875 48.78125 10.40625 \nL 48.78125 2.09375 \nQ 45.015625 0.34375 40.984375 -0.53125 \nQ 36.96875 -1.421875 32.421875 -1.421875 \nQ 20.0625 -1.421875 12.78125 6.34375 \nQ 5.515625 14.109375 5.515625 27.296875 \nQ 5.515625 40.671875 12.859375 48.328125 \nQ 20.21875 56 33.015625 56 \nQ 37.15625 56 41.109375 55.140625 \nQ 45.0625 54.296875 48.78125 52.59375 \nz\n\" id=\"DejaVuSans-99\"/>\n        <path d=\"M 56.203125 29.59375 \nL 56.203125 25.203125 \nL 14.890625 25.203125 \nQ 15.484375 15.921875 20.484375 11.0625 \nQ 25.484375 6.203125 34.421875 6.203125 \nQ 39.59375 6.203125 44.453125 7.46875 \nQ 49.3125 8.734375 54.109375 11.28125 \nL 54.109375 2.78125 \nQ 49.265625 0.734375 44.1875 -0.34375 \nQ 39.109375 -1.421875 33.890625 -1.421875 \nQ 20.796875 -1.421875 13.15625 6.1875 \nQ 5.515625 13.8125 5.515625 26.8125 \nQ 5.515625 40.234375 12.765625 48.109375 \nQ 20.015625 56 32.328125 56 \nQ 43.359375 56 49.78125 48.890625 \nQ 56.203125 41.796875 56.203125 29.59375 \nz\nM 47.21875 32.234375 \nQ 47.125 39.59375 43.09375 43.984375 \nQ 39.0625 48.390625 32.421875 48.390625 \nQ 24.90625 48.390625 20.390625 44.140625 \nQ 15.875 39.890625 15.1875 32.171875 \nz\n\" id=\"DejaVuSans-101\"/>\n        <path d=\"M 10.6875 12.40625 \nL 21 12.40625 \nL 21 0 \nL 10.6875 0 \nz\n\" id=\"DejaVuSans-46\"/>\n        <path d=\"M 18.3125 70.21875 \nL 18.3125 54.6875 \nL 36.8125 54.6875 \nL 36.8125 47.703125 \nL 18.3125 47.703125 \nL 18.3125 18.015625 \nQ 18.3125 11.328125 20.140625 9.421875 \nQ 21.96875 7.515625 27.59375 7.515625 \nL 36.8125 7.515625 \nL 36.8125 0 \nL 27.59375 0 \nQ 17.1875 0 13.234375 3.875 \nQ 9.28125 7.765625 9.28125 18.015625 \nL 9.28125 47.703125 \nL 2.6875 47.703125 \nL 2.6875 54.6875 \nL 9.28125 54.6875 \nL 9.28125 70.21875 \nz\n\" id=\"DejaVuSans-116\"/>\n        <path d=\"M 54.890625 54.6875 \nL 35.109375 28.078125 \nL 55.90625 0 \nL 45.3125 0 \nL 29.390625 21.484375 \nL 13.484375 0 \nL 2.875 0 \nL 24.125 28.609375 \nL 4.6875 54.6875 \nL 15.28125 54.6875 \nL 29.78125 35.203125 \nL 44.28125 54.6875 \nz\n\" id=\"DejaVuSans-120\"/>\n       </defs>\n       <use xlink:href=\"#DejaVuSans-103\"/>\n       <use x=\"63.476562\" xlink:href=\"#DejaVuSans-50\"/>\n       <use x=\"127.099609\" xlink:href=\"#DejaVuSans-53\"/>\n       <use x=\"190.722656\" xlink:href=\"#DejaVuSans-45\"/>\n       <use x=\"226.806641\" xlink:href=\"#DejaVuSans-100\"/>\n       <use x=\"290.283203\" xlink:href=\"#DejaVuSans-117\"/>\n       <use x=\"353.662109\" xlink:href=\"#DejaVuSans-114\"/>\n       <use x=\"394.775391\" xlink:href=\"#DejaVuSans-97\"/>\n       <use x=\"456.054688\" xlink:href=\"#DejaVuSans-115\"/>\n       <use x=\"508.154297\" xlink:href=\"#DejaVuSans-112\"/>\n       <use x=\"571.630859\" xlink:href=\"#DejaVuSans-97\"/>\n       <use x=\"632.910156\" xlink:href=\"#DejaVuSans-99\"/>\n       <use x=\"687.890625\" xlink:href=\"#DejaVuSans-101\"/>\n       <use x=\"749.414062\" xlink:href=\"#DejaVuSans-46\"/>\n       <use x=\"781.201172\" xlink:href=\"#DejaVuSans-116\"/>\n       <use x=\"820.410156\" xlink:href=\"#DejaVuSans-120\"/>\n       <use x=\"879.589844\" xlink:href=\"#DejaVuSans-116\"/>\n      </g>\n     </g>\n    </g>\n    <g id=\"xtick_2\">\n     <g id=\"line2d_2\">\n      <g>\n       <use style=\"stroke:#000000;stroke-width:0.8;\" x=\"69.792898\" xlink:href=\"#med25aadbdf\" y=\"224.64\"/>\n      </g>\n     </g>\n     <g id=\"text_2\">\n      <!-- g18-neurohub.txt -->\n      <g transform=\"translate(26.055398 239.238438)scale(0.1 -0.1)\">\n       <defs>\n        <path d=\"M 12.40625 8.296875 \nL 28.515625 8.296875 \nL 28.515625 63.921875 \nL 10.984375 60.40625 \nL 10.984375 69.390625 \nL 28.421875 72.90625 \nL 38.28125 72.90625 \nL 38.28125 8.296875 \nL 54.390625 8.296875 \nL 54.390625 0 \nL 12.40625 0 \nz\n\" id=\"DejaVuSans-49\"/>\n        <path d=\"M 31.78125 34.625 \nQ 24.75 34.625 20.71875 30.859375 \nQ 16.703125 27.09375 16.703125 20.515625 \nQ 16.703125 13.921875 20.71875 10.15625 \nQ 24.75 6.390625 31.78125 6.390625 \nQ 38.8125 6.390625 42.859375 10.171875 \nQ 46.921875 13.96875 46.921875 20.515625 \nQ 46.921875 27.09375 42.890625 30.859375 \nQ 38.875 34.625 31.78125 34.625 \nz\nM 21.921875 38.8125 \nQ 15.578125 40.375 12.03125 44.71875 \nQ 8.5 49.078125 8.5 55.328125 \nQ 8.5 64.0625 14.71875 69.140625 \nQ 20.953125 74.21875 31.78125 74.21875 \nQ 42.671875 74.21875 48.875 69.140625 \nQ 55.078125 64.0625 55.078125 55.328125 \nQ 55.078125 49.078125 51.53125 44.71875 \nQ 48 40.375 41.703125 38.8125 \nQ 48.828125 37.15625 52.796875 32.3125 \nQ 56.78125 27.484375 56.78125 20.515625 \nQ 56.78125 9.90625 50.3125 4.234375 \nQ 43.84375 -1.421875 31.78125 -1.421875 \nQ 19.734375 -1.421875 13.25 4.234375 \nQ 6.78125 9.90625 6.78125 20.515625 \nQ 6.78125 27.484375 10.78125 32.3125 \nQ 14.796875 37.15625 21.921875 38.8125 \nz\nM 18.3125 54.390625 \nQ 18.3125 48.734375 21.84375 45.5625 \nQ 25.390625 42.390625 31.78125 42.390625 \nQ 38.140625 42.390625 41.71875 45.5625 \nQ 45.3125 48.734375 45.3125 54.390625 \nQ 45.3125 60.0625 41.71875 63.234375 \nQ 38.140625 66.40625 31.78125 66.40625 \nQ 25.390625 66.40625 21.84375 63.234375 \nQ 18.3125 60.0625 18.3125 54.390625 \nz\n\" id=\"DejaVuSans-56\"/>\n        <path d=\"M 54.890625 33.015625 \nL 54.890625 0 \nL 45.90625 0 \nL 45.90625 32.71875 \nQ 45.90625 40.484375 42.875 44.328125 \nQ 39.84375 48.1875 33.796875 48.1875 \nQ 26.515625 48.1875 22.3125 43.546875 \nQ 18.109375 38.921875 18.109375 30.90625 \nL 18.109375 0 \nL 9.078125 0 \nL 9.078125 54.6875 \nL 18.109375 54.6875 \nL 18.109375 46.1875 \nQ 21.34375 51.125 25.703125 53.5625 \nQ 30.078125 56 35.796875 56 \nQ 45.21875 56 50.046875 50.171875 \nQ 54.890625 44.34375 54.890625 33.015625 \nz\n\" id=\"DejaVuSans-110\"/>\n        <path d=\"M 30.609375 48.390625 \nQ 23.390625 48.390625 19.1875 42.75 \nQ 14.984375 37.109375 14.984375 27.296875 \nQ 14.984375 17.484375 19.15625 11.84375 \nQ 23.34375 6.203125 30.609375 6.203125 \nQ 37.796875 6.203125 41.984375 11.859375 \nQ 46.1875 17.53125 46.1875 27.296875 \nQ 46.1875 37.015625 41.984375 42.703125 \nQ 37.796875 48.390625 30.609375 48.390625 \nz\nM 30.609375 56 \nQ 42.328125 56 49.015625 48.375 \nQ 55.71875 40.765625 55.71875 27.296875 \nQ 55.71875 13.875 49.015625 6.21875 \nQ 42.328125 -1.421875 30.609375 -1.421875 \nQ 18.84375 -1.421875 12.171875 6.21875 \nQ 5.515625 13.875 5.515625 27.296875 \nQ 5.515625 40.765625 12.171875 48.375 \nQ 18.84375 56 30.609375 56 \nz\n\" id=\"DejaVuSans-111\"/>\n        <path d=\"M 54.890625 33.015625 \nL 54.890625 0 \nL 45.90625 0 \nL 45.90625 32.71875 \nQ 45.90625 40.484375 42.875 44.328125 \nQ 39.84375 48.1875 33.796875 48.1875 \nQ 26.515625 48.1875 22.3125 43.546875 \nQ 18.109375 38.921875 18.109375 30.90625 \nL 18.109375 0 \nL 9.078125 0 \nL 9.078125 75.984375 \nL 18.109375 75.984375 \nL 18.109375 46.1875 \nQ 21.34375 51.125 25.703125 53.5625 \nQ 30.078125 56 35.796875 56 \nQ 45.21875 56 50.046875 50.171875 \nQ 54.890625 44.34375 54.890625 33.015625 \nz\n\" id=\"DejaVuSans-104\"/>\n        <path d=\"M 48.6875 27.296875 \nQ 48.6875 37.203125 44.609375 42.84375 \nQ 40.53125 48.484375 33.40625 48.484375 \nQ 26.265625 48.484375 22.1875 42.84375 \nQ 18.109375 37.203125 18.109375 27.296875 \nQ 18.109375 17.390625 22.1875 11.75 \nQ 26.265625 6.109375 33.40625 6.109375 \nQ 40.53125 6.109375 44.609375 11.75 \nQ 48.6875 17.390625 48.6875 27.296875 \nz\nM 18.109375 46.390625 \nQ 20.953125 51.265625 25.265625 53.625 \nQ 29.59375 56 35.59375 56 \nQ 45.5625 56 51.78125 48.09375 \nQ 58.015625 40.1875 58.015625 27.296875 \nQ 58.015625 14.40625 51.78125 6.484375 \nQ 45.5625 -1.421875 35.59375 -1.421875 \nQ 29.59375 -1.421875 25.265625 0.953125 \nQ 20.953125 3.328125 18.109375 8.203125 \nL 18.109375 0 \nL 9.078125 0 \nL 9.078125 75.984375 \nL 18.109375 75.984375 \nz\n\" id=\"DejaVuSans-98\"/>\n       </defs>\n       <use xlink:href=\"#DejaVuSans-103\"/>\n       <use x=\"63.476562\" xlink:href=\"#DejaVuSans-49\"/>\n       <use x=\"127.099609\" xlink:href=\"#DejaVuSans-56\"/>\n       <use x=\"190.722656\" xlink:href=\"#DejaVuSans-45\"/>\n       <use x=\"226.806641\" xlink:href=\"#DejaVuSans-110\"/>\n       <use x=\"290.185547\" xlink:href=\"#DejaVuSans-101\"/>\n       <use x=\"351.708984\" xlink:href=\"#DejaVuSans-117\"/>\n       <use x=\"415.087891\" xlink:href=\"#DejaVuSans-114\"/>\n       <use x=\"453.951172\" xlink:href=\"#DejaVuSans-111\"/>\n       <use x=\"515.132812\" xlink:href=\"#DejaVuSans-104\"/>\n       <use x=\"578.511719\" xlink:href=\"#DejaVuSans-117\"/>\n       <use x=\"641.890625\" xlink:href=\"#DejaVuSans-98\"/>\n       <use x=\"705.367188\" xlink:href=\"#DejaVuSans-46\"/>\n       <use x=\"737.154297\" xlink:href=\"#DejaVuSans-116\"/>\n       <use x=\"776.363281\" xlink:href=\"#DejaVuSans-120\"/>\n       <use x=\"835.542969\" xlink:href=\"#DejaVuSans-116\"/>\n      </g>\n     </g>\n    </g>\n    <g id=\"xtick_3\">\n     <g id=\"line2d_3\">\n      <g>\n       <use style=\"stroke:#000000;stroke-width:0.8;\" x=\"85.01108\" xlink:href=\"#med25aadbdf\" y=\"224.64\"/>\n      </g>\n     </g>\n     <g id=\"text_3\">\n      <!-- g26-racdam.txt -->\n      <g transform=\"translate(46.224361 239.238438)scale(0.1 -0.1)\">\n       <defs>\n        <path d=\"M 33.015625 40.375 \nQ 26.375 40.375 22.484375 35.828125 \nQ 18.609375 31.296875 18.609375 23.390625 \nQ 18.609375 15.53125 22.484375 10.953125 \nQ 26.375 6.390625 33.015625 6.390625 \nQ 39.65625 6.390625 43.53125 10.953125 \nQ 47.40625 15.53125 47.40625 23.390625 \nQ 47.40625 31.296875 43.53125 35.828125 \nQ 39.65625 40.375 33.015625 40.375 \nz\nM 52.59375 71.296875 \nL 52.59375 62.3125 \nQ 48.875 64.0625 45.09375 64.984375 \nQ 41.3125 65.921875 37.59375 65.921875 \nQ 27.828125 65.921875 22.671875 59.328125 \nQ 17.53125 52.734375 16.796875 39.40625 \nQ 19.671875 43.65625 24.015625 45.921875 \nQ 28.375 48.1875 33.59375 48.1875 \nQ 44.578125 48.1875 50.953125 41.515625 \nQ 57.328125 34.859375 57.328125 23.390625 \nQ 57.328125 12.15625 50.6875 5.359375 \nQ 44.046875 -1.421875 33.015625 -1.421875 \nQ 20.359375 -1.421875 13.671875 8.265625 \nQ 6.984375 17.96875 6.984375 36.375 \nQ 6.984375 53.65625 15.1875 63.9375 \nQ 23.390625 74.21875 37.203125 74.21875 \nQ 40.921875 74.21875 44.703125 73.484375 \nQ 48.484375 72.75 52.59375 71.296875 \nz\n\" id=\"DejaVuSans-54\"/>\n        <path d=\"M 52 44.1875 \nQ 55.375 50.25 60.0625 53.125 \nQ 64.75 56 71.09375 56 \nQ 79.640625 56 84.28125 50.015625 \nQ 88.921875 44.046875 88.921875 33.015625 \nL 88.921875 0 \nL 79.890625 0 \nL 79.890625 32.71875 \nQ 79.890625 40.578125 77.09375 44.375 \nQ 74.3125 48.1875 68.609375 48.1875 \nQ 61.625 48.1875 57.5625 43.546875 \nQ 53.515625 38.921875 53.515625 30.90625 \nL 53.515625 0 \nL 44.484375 0 \nL 44.484375 32.71875 \nQ 44.484375 40.625 41.703125 44.40625 \nQ 38.921875 48.1875 33.109375 48.1875 \nQ 26.21875 48.1875 22.15625 43.53125 \nQ 18.109375 38.875 18.109375 30.90625 \nL 18.109375 0 \nL 9.078125 0 \nL 9.078125 54.6875 \nL 18.109375 54.6875 \nL 18.109375 46.1875 \nQ 21.1875 51.21875 25.484375 53.609375 \nQ 29.78125 56 35.6875 56 \nQ 41.65625 56 45.828125 52.96875 \nQ 50 49.953125 52 44.1875 \nz\n\" id=\"DejaVuSans-109\"/>\n       </defs>\n       <use xlink:href=\"#DejaVuSans-103\"/>\n       <use x=\"63.476562\" xlink:href=\"#DejaVuSans-50\"/>\n       <use x=\"127.099609\" xlink:href=\"#DejaVuSans-54\"/>\n       <use x=\"190.722656\" xlink:href=\"#DejaVuSans-45\"/>\n       <use x=\"226.806641\" xlink:href=\"#DejaVuSans-114\"/>\n       <use x=\"267.919922\" xlink:href=\"#DejaVuSans-97\"/>\n       <use x=\"329.199219\" xlink:href=\"#DejaVuSans-99\"/>\n       <use x=\"384.179688\" xlink:href=\"#DejaVuSans-100\"/>\n       <use x=\"447.65625\" xlink:href=\"#DejaVuSans-97\"/>\n       <use x=\"508.935547\" xlink:href=\"#DejaVuSans-109\"/>\n       <use x=\"606.347656\" xlink:href=\"#DejaVuSans-46\"/>\n       <use x=\"638.134766\" xlink:href=\"#DejaVuSans-116\"/>\n       <use x=\"677.34375\" xlink:href=\"#DejaVuSans-120\"/>\n       <use x=\"736.523438\" xlink:href=\"#DejaVuSans-116\"/>\n      </g>\n     </g>\n    </g>\n    <g id=\"xtick_4\">\n     <g id=\"line2d_4\">\n      <g>\n       <use style=\"stroke:#000000;stroke-width:0.8;\" x=\"100.229261\" xlink:href=\"#med25aadbdf\" y=\"224.64\"/>\n      </g>\n     </g>\n     <g id=\"text_4\">\n      <!-- g28-zooniverse.txt -->\n      <g transform=\"translate(53.346449 239.238438)scale(0.1 -0.1)\">\n       <defs>\n        <path d=\"M 5.515625 54.6875 \nL 48.1875 54.6875 \nL 48.1875 46.484375 \nL 14.40625 7.171875 \nL 48.1875 7.171875 \nL 48.1875 0 \nL 4.296875 0 \nL 4.296875 8.203125 \nL 38.09375 47.515625 \nL 5.515625 47.515625 \nz\n\" id=\"DejaVuSans-122\"/>\n        <path d=\"M 9.421875 54.6875 \nL 18.40625 54.6875 \nL 18.40625 0 \nL 9.421875 0 \nz\nM 9.421875 75.984375 \nL 18.40625 75.984375 \nL 18.40625 64.59375 \nL 9.421875 64.59375 \nz\n\" id=\"DejaVuSans-105\"/>\n        <path d=\"M 2.984375 54.6875 \nL 12.5 54.6875 \nL 29.59375 8.796875 \nL 46.6875 54.6875 \nL 56.203125 54.6875 \nL 35.6875 0 \nL 23.484375 0 \nz\n\" id=\"DejaVuSans-118\"/>\n       </defs>\n       <use xlink:href=\"#DejaVuSans-103\"/>\n       <use x=\"63.476562\" xlink:href=\"#DejaVuSans-50\"/>\n       <use x=\"127.099609\" xlink:href=\"#DejaVuSans-56\"/>\n       <use x=\"190.722656\" xlink:href=\"#DejaVuSans-45\"/>\n       <use x=\"226.806641\" xlink:href=\"#DejaVuSans-122\"/>\n       <use x=\"279.296875\" xlink:href=\"#DejaVuSans-111\"/>\n       <use x=\"340.478516\" xlink:href=\"#DejaVuSans-111\"/>\n       <use x=\"401.660156\" xlink:href=\"#DejaVuSans-110\"/>\n       <use x=\"465.039062\" xlink:href=\"#DejaVuSans-105\"/>\n       <use x=\"492.822266\" xlink:href=\"#DejaVuSans-118\"/>\n       <use x=\"552.001953\" xlink:href=\"#DejaVuSans-101\"/>\n       <use x=\"613.525391\" xlink:href=\"#DejaVuSans-114\"/>\n       <use x=\"654.638672\" xlink:href=\"#DejaVuSans-115\"/>\n       <use x=\"706.738281\" xlink:href=\"#DejaVuSans-101\"/>\n       <use x=\"768.261719\" xlink:href=\"#DejaVuSans-46\"/>\n       <use x=\"800.048828\" xlink:href=\"#DejaVuSans-116\"/>\n       <use x=\"839.257812\" xlink:href=\"#DejaVuSans-120\"/>\n       <use x=\"898.4375\" xlink:href=\"#DejaVuSans-116\"/>\n      </g>\n     </g>\n    </g>\n    <g id=\"xtick_5\">\n     <g id=\"line2d_5\">\n      <g>\n       <use style=\"stroke:#000000;stroke-width:0.8;\" x=\"115.447443\" xlink:href=\"#med25aadbdf\" y=\"224.64\"/>\n      </g>\n     </g>\n     <g id=\"text_5\">\n      <!-- g23-archivesspace.txt -->\n      <g transform=\"translate(60.014631 239.238438)scale(0.1 -0.1)\">\n       <defs>\n        <path d=\"M 40.578125 39.3125 \nQ 47.65625 37.796875 51.625 33 \nQ 55.609375 28.21875 55.609375 21.1875 \nQ 55.609375 10.40625 48.1875 4.484375 \nQ 40.765625 -1.421875 27.09375 -1.421875 \nQ 22.515625 -1.421875 17.65625 -0.515625 \nQ 12.796875 0.390625 7.625 2.203125 \nL 7.625 11.71875 \nQ 11.71875 9.328125 16.59375 8.109375 \nQ 21.484375 6.890625 26.8125 6.890625 \nQ 36.078125 6.890625 40.9375 10.546875 \nQ 45.796875 14.203125 45.796875 21.1875 \nQ 45.796875 27.640625 41.28125 31.265625 \nQ 36.765625 34.90625 28.71875 34.90625 \nL 20.21875 34.90625 \nL 20.21875 43.015625 \nL 29.109375 43.015625 \nQ 36.375 43.015625 40.234375 45.921875 \nQ 44.09375 48.828125 44.09375 54.296875 \nQ 44.09375 59.90625 40.109375 62.90625 \nQ 36.140625 65.921875 28.71875 65.921875 \nQ 24.65625 65.921875 20.015625 65.03125 \nQ 15.375 64.15625 9.8125 62.3125 \nL 9.8125 71.09375 \nQ 15.4375 72.65625 20.34375 73.4375 \nQ 25.25 74.21875 29.59375 74.21875 \nQ 40.828125 74.21875 47.359375 69.109375 \nQ 53.90625 64.015625 53.90625 55.328125 \nQ 53.90625 49.265625 50.4375 45.09375 \nQ 46.96875 40.921875 40.578125 39.3125 \nz\n\" id=\"DejaVuSans-51\"/>\n       </defs>\n       <use xlink:href=\"#DejaVuSans-103\"/>\n       <use x=\"63.476562\" xlink:href=\"#DejaVuSans-50\"/>\n       <use x=\"127.099609\" xlink:href=\"#DejaVuSans-51\"/>\n       <use x=\"190.722656\" xlink:href=\"#DejaVuSans-45\"/>\n       <use x=\"226.806641\" xlink:href=\"#DejaVuSans-97\"/>\n       <use x=\"288.085938\" xlink:href=\"#DejaVuSans-114\"/>\n       <use x=\"326.949219\" xlink:href=\"#DejaVuSans-99\"/>\n       <use x=\"381.929688\" xlink:href=\"#DejaVuSans-104\"/>\n       <use x=\"445.308594\" xlink:href=\"#DejaVuSans-105\"/>\n       <use x=\"473.091797\" xlink:href=\"#DejaVuSans-118\"/>\n       <use x=\"532.271484\" xlink:href=\"#DejaVuSans-101\"/>\n       <use x=\"593.794922\" xlink:href=\"#DejaVuSans-115\"/>\n       <use x=\"645.894531\" xlink:href=\"#DejaVuSans-115\"/>\n       <use x=\"697.994141\" xlink:href=\"#DejaVuSans-112\"/>\n       <use x=\"761.470703\" xlink:href=\"#DejaVuSans-97\"/>\n       <use x=\"822.75\" xlink:href=\"#DejaVuSans-99\"/>\n       <use x=\"877.730469\" xlink:href=\"#DejaVuSans-101\"/>\n       <use x=\"939.253906\" xlink:href=\"#DejaVuSans-46\"/>\n       <use x=\"971.041016\" xlink:href=\"#DejaVuSans-116\"/>\n       <use x=\"1010.25\" xlink:href=\"#DejaVuSans-120\"/>\n       <use x=\"1069.429688\" xlink:href=\"#DejaVuSans-116\"/>\n      </g>\n     </g>\n    </g>\n    <g id=\"xtick_6\">\n     <g id=\"line2d_6\">\n      <g>\n       <use style=\"stroke:#000000;stroke-width:0.8;\" x=\"130.665625\" xlink:href=\"#med25aadbdf\" y=\"224.64\"/>\n      </g>\n     </g>\n     <g id=\"text_6\">\n      <!-- g03-loudoun.txt -->\n      <g transform=\"translate(90.667969 239.238438)scale(0.1 -0.1)\">\n       <defs>\n        <path d=\"M 31.78125 66.40625 \nQ 24.171875 66.40625 20.328125 58.90625 \nQ 16.5 51.421875 16.5 36.375 \nQ 16.5 21.390625 20.328125 13.890625 \nQ 24.171875 6.390625 31.78125 6.390625 \nQ 39.453125 6.390625 43.28125 13.890625 \nQ 47.125 21.390625 47.125 36.375 \nQ 47.125 51.421875 43.28125 58.90625 \nQ 39.453125 66.40625 31.78125 66.40625 \nz\nM 31.78125 74.21875 \nQ 44.046875 74.21875 50.515625 64.515625 \nQ 56.984375 54.828125 56.984375 36.375 \nQ 56.984375 17.96875 50.515625 8.265625 \nQ 44.046875 -1.421875 31.78125 -1.421875 \nQ 19.53125 -1.421875 13.0625 8.265625 \nQ 6.59375 17.96875 6.59375 36.375 \nQ 6.59375 54.828125 13.0625 64.515625 \nQ 19.53125 74.21875 31.78125 74.21875 \nz\n\" id=\"DejaVuSans-48\"/>\n        <path d=\"M 9.421875 75.984375 \nL 18.40625 75.984375 \nL 18.40625 0 \nL 9.421875 0 \nz\n\" id=\"DejaVuSans-108\"/>\n       </defs>\n       <use xlink:href=\"#DejaVuSans-103\"/>\n       <use x=\"63.476562\" xlink:href=\"#DejaVuSans-48\"/>\n       <use x=\"127.099609\" xlink:href=\"#DejaVuSans-51\"/>\n       <use x=\"190.722656\" xlink:href=\"#DejaVuSans-45\"/>\n       <use x=\"226.806641\" xlink:href=\"#DejaVuSans-108\"/>\n       <use x=\"254.589844\" xlink:href=\"#DejaVuSans-111\"/>\n       <use x=\"315.771484\" xlink:href=\"#DejaVuSans-117\"/>\n       <use x=\"379.150391\" xlink:href=\"#DejaVuSans-100\"/>\n       <use x=\"442.626953\" xlink:href=\"#DejaVuSans-111\"/>\n       <use x=\"503.808594\" xlink:href=\"#DejaVuSans-117\"/>\n       <use x=\"567.1875\" xlink:href=\"#DejaVuSans-110\"/>\n       <use x=\"630.566406\" xlink:href=\"#DejaVuSans-46\"/>\n       <use x=\"662.353516\" xlink:href=\"#DejaVuSans-116\"/>\n       <use x=\"701.5625\" xlink:href=\"#DejaVuSans-120\"/>\n       <use x=\"760.742188\" xlink:href=\"#DejaVuSans-116\"/>\n      </g>\n     </g>\n    </g>\n    <g id=\"xtick_7\">\n     <g id=\"line2d_7\">\n      <g>\n       <use style=\"stroke:#000000;stroke-width:0.8;\" x=\"145.883807\" xlink:href=\"#med25aadbdf\" y=\"224.64\"/>\n      </g>\n     </g>\n     <g id=\"text_7\">\n      <!-- g12-camperplus.txt -->\n      <g transform=\"translate(96.747869 239.238438)scale(0.1 -0.1)\">\n       <use xlink:href=\"#DejaVuSans-103\"/>\n       <use x=\"63.476562\" xlink:href=\"#DejaVuSans-49\"/>\n       <use x=\"127.099609\" xlink:href=\"#DejaVuSans-50\"/>\n       <use x=\"190.722656\" xlink:href=\"#DejaVuSans-45\"/>\n       <use x=\"226.806641\" xlink:href=\"#DejaVuSans-99\"/>\n       <use x=\"281.787109\" xlink:href=\"#DejaVuSans-97\"/>\n       <use x=\"343.066406\" xlink:href=\"#DejaVuSans-109\"/>\n       <use x=\"440.478516\" xlink:href=\"#DejaVuSans-112\"/>\n       <use x=\"503.955078\" xlink:href=\"#DejaVuSans-101\"/>\n       <use x=\"565.478516\" xlink:href=\"#DejaVuSans-114\"/>\n       <use x=\"606.591797\" xlink:href=\"#DejaVuSans-112\"/>\n       <use x=\"670.068359\" xlink:href=\"#DejaVuSans-108\"/>\n       <use x=\"697.851562\" xlink:href=\"#DejaVuSans-117\"/>\n       <use x=\"761.230469\" xlink:href=\"#DejaVuSans-115\"/>\n       <use x=\"813.330078\" xlink:href=\"#DejaVuSans-46\"/>\n       <use x=\"845.117188\" xlink:href=\"#DejaVuSans-116\"/>\n       <use x=\"884.326172\" xlink:href=\"#DejaVuSans-120\"/>\n       <use x=\"943.505859\" xlink:href=\"#DejaVuSans-116\"/>\n      </g>\n     </g>\n    </g>\n    <g id=\"xtick_8\">\n     <g id=\"line2d_8\">\n      <g>\n       <use style=\"stroke:#000000;stroke-width:0.8;\" x=\"161.101989\" xlink:href=\"#med25aadbdf\" y=\"224.64\"/>\n      </g>\n     </g>\n     <g id=\"text_8\">\n      <!-- g17-cask.txt -->\n      <g transform=\"translate(129.979332 239.238438)scale(0.1 -0.1)\">\n       <defs>\n        <path d=\"M 8.203125 72.90625 \nL 55.078125 72.90625 \nL 55.078125 68.703125 \nL 28.609375 0 \nL 18.3125 0 \nL 43.21875 64.59375 \nL 8.203125 64.59375 \nz\n\" id=\"DejaVuSans-55\"/>\n        <path d=\"M 9.078125 75.984375 \nL 18.109375 75.984375 \nL 18.109375 31.109375 \nL 44.921875 54.6875 \nL 56.390625 54.6875 \nL 27.390625 29.109375 \nL 57.625 0 \nL 45.90625 0 \nL 18.109375 26.703125 \nL 18.109375 0 \nL 9.078125 0 \nz\n\" id=\"DejaVuSans-107\"/>\n       </defs>\n       <use xlink:href=\"#DejaVuSans-103\"/>\n       <use x=\"63.476562\" xlink:href=\"#DejaVuSans-49\"/>\n       <use x=\"127.099609\" xlink:href=\"#DejaVuSans-55\"/>\n       <use x=\"190.722656\" xlink:href=\"#DejaVuSans-45\"/>\n       <use x=\"226.806641\" xlink:href=\"#DejaVuSans-99\"/>\n       <use x=\"281.787109\" xlink:href=\"#DejaVuSans-97\"/>\n       <use x=\"343.066406\" xlink:href=\"#DejaVuSans-115\"/>\n       <use x=\"395.166016\" xlink:href=\"#DejaVuSans-107\"/>\n       <use x=\"453.076172\" xlink:href=\"#DejaVuSans-46\"/>\n       <use x=\"484.863281\" xlink:href=\"#DejaVuSans-116\"/>\n       <use x=\"524.072266\" xlink:href=\"#DejaVuSans-120\"/>\n       <use x=\"583.251953\" xlink:href=\"#DejaVuSans-116\"/>\n      </g>\n     </g>\n    </g>\n    <g id=\"xtick_9\">\n     <g id=\"line2d_9\">\n      <g>\n       <use style=\"stroke:#000000;stroke-width:0.8;\" x=\"176.32017\" xlink:href=\"#med25aadbdf\" y=\"224.64\"/>\n      </g>\n     </g>\n     <g id=\"text_9\">\n      <!-- g10-scrumalliance.txt -->\n      <g transform=\"translate(121.772514 239.238438)scale(0.1 -0.1)\">\n       <use xlink:href=\"#DejaVuSans-103\"/>\n       <use x=\"63.476562\" xlink:href=\"#DejaVuSans-49\"/>\n       <use x=\"127.099609\" xlink:href=\"#DejaVuSans-48\"/>\n       <use x=\"190.722656\" xlink:href=\"#DejaVuSans-45\"/>\n       <use x=\"226.806641\" xlink:href=\"#DejaVuSans-115\"/>\n       <use x=\"278.90625\" xlink:href=\"#DejaVuSans-99\"/>\n       <use x=\"333.886719\" xlink:href=\"#DejaVuSans-114\"/>\n       <use x=\"375\" xlink:href=\"#DejaVuSans-117\"/>\n       <use x=\"438.378906\" xlink:href=\"#DejaVuSans-109\"/>\n       <use x=\"535.791016\" xlink:href=\"#DejaVuSans-97\"/>\n       <use x=\"597.070312\" xlink:href=\"#DejaVuSans-108\"/>\n       <use x=\"624.853516\" xlink:href=\"#DejaVuSans-108\"/>\n       <use x=\"652.636719\" xlink:href=\"#DejaVuSans-105\"/>\n       <use x=\"680.419922\" xlink:href=\"#DejaVuSans-97\"/>\n       <use x=\"741.699219\" xlink:href=\"#DejaVuSans-110\"/>\n       <use x=\"805.078125\" xlink:href=\"#DejaVuSans-99\"/>\n       <use x=\"860.058594\" xlink:href=\"#DejaVuSans-101\"/>\n       <use x=\"921.582031\" xlink:href=\"#DejaVuSans-46\"/>\n       <use x=\"953.369141\" xlink:href=\"#DejaVuSans-116\"/>\n       <use x=\"992.578125\" xlink:href=\"#DejaVuSans-120\"/>\n       <use x=\"1051.757812\" xlink:href=\"#DejaVuSans-116\"/>\n      </g>\n     </g>\n    </g>\n    <g id=\"xtick_10\">\n     <g id=\"line2d_10\">\n      <g>\n       <use style=\"stroke:#000000;stroke-width:0.8;\" x=\"191.538352\" xlink:href=\"#med25aadbdf\" y=\"224.64\"/>\n      </g>\n     </g>\n     <g id=\"text_10\">\n      <!-- g08-frictionless.txt -->\n      <g transform=\"translate(144.522727 239.238438)scale(0.1 -0.1)\">\n       <defs>\n        <path d=\"M 37.109375 75.984375 \nL 37.109375 68.5 \nL 28.515625 68.5 \nQ 23.6875 68.5 21.796875 66.546875 \nQ 19.921875 64.59375 19.921875 59.515625 \nL 19.921875 54.6875 \nL 34.71875 54.6875 \nL 34.71875 47.703125 \nL 19.921875 47.703125 \nL 19.921875 0 \nL 10.890625 0 \nL 10.890625 47.703125 \nL 2.296875 47.703125 \nL 2.296875 54.6875 \nL 10.890625 54.6875 \nL 10.890625 58.5 \nQ 10.890625 67.625 15.140625 71.796875 \nQ 19.390625 75.984375 28.609375 75.984375 \nz\n\" id=\"DejaVuSans-102\"/>\n       </defs>\n       <use xlink:href=\"#DejaVuSans-103\"/>\n       <use x=\"63.476562\" xlink:href=\"#DejaVuSans-48\"/>\n       <use x=\"127.099609\" xlink:href=\"#DejaVuSans-56\"/>\n       <use x=\"190.722656\" xlink:href=\"#DejaVuSans-45\"/>\n       <use x=\"226.806641\" xlink:href=\"#DejaVuSans-102\"/>\n       <use x=\"262.011719\" xlink:href=\"#DejaVuSans-114\"/>\n       <use x=\"303.125\" xlink:href=\"#DejaVuSans-105\"/>\n       <use x=\"330.908203\" xlink:href=\"#DejaVuSans-99\"/>\n       <use x=\"385.888672\" xlink:href=\"#DejaVuSans-116\"/>\n       <use x=\"425.097656\" xlink:href=\"#DejaVuSans-105\"/>\n       <use x=\"452.880859\" xlink:href=\"#DejaVuSans-111\"/>\n       <use x=\"514.0625\" xlink:href=\"#DejaVuSans-110\"/>\n       <use x=\"577.441406\" xlink:href=\"#DejaVuSans-108\"/>\n       <use x=\"605.224609\" xlink:href=\"#DejaVuSans-101\"/>\n       <use x=\"666.748047\" xlink:href=\"#DejaVuSans-115\"/>\n       <use x=\"718.847656\" xlink:href=\"#DejaVuSans-115\"/>\n       <use x=\"770.947266\" xlink:href=\"#DejaVuSans-46\"/>\n       <use x=\"802.734375\" xlink:href=\"#DejaVuSans-116\"/>\n       <use x=\"841.943359\" xlink:href=\"#DejaVuSans-120\"/>\n       <use x=\"901.123047\" xlink:href=\"#DejaVuSans-116\"/>\n      </g>\n     </g>\n    </g>\n    <g id=\"xtick_11\">\n     <g id=\"line2d_11\">\n      <g>\n       <use style=\"stroke:#000000;stroke-width:0.8;\" x=\"206.756534\" xlink:href=\"#med25aadbdf\" y=\"224.64\"/>\n      </g>\n     </g>\n     <g id=\"text_11\">\n      <!-- g02-federalspending.txt -->\n      <g transform=\"translate(146.420597 239.238438)scale(0.1 -0.1)\">\n       <use xlink:href=\"#DejaVuSans-103\"/>\n       <use x=\"63.476562\" xlink:href=\"#DejaVuSans-48\"/>\n       <use x=\"127.099609\" xlink:href=\"#DejaVuSans-50\"/>\n       <use x=\"190.722656\" xlink:href=\"#DejaVuSans-45\"/>\n       <use x=\"226.806641\" xlink:href=\"#DejaVuSans-102\"/>\n       <use x=\"262.011719\" xlink:href=\"#DejaVuSans-101\"/>\n       <use x=\"323.535156\" xlink:href=\"#DejaVuSans-100\"/>\n       <use x=\"387.011719\" xlink:href=\"#DejaVuSans-101\"/>\n       <use x=\"448.535156\" xlink:href=\"#DejaVuSans-114\"/>\n       <use x=\"489.648438\" xlink:href=\"#DejaVuSans-97\"/>\n       <use x=\"550.927734\" xlink:href=\"#DejaVuSans-108\"/>\n       <use x=\"578.710938\" xlink:href=\"#DejaVuSans-115\"/>\n       <use x=\"630.810547\" xlink:href=\"#DejaVuSans-112\"/>\n       <use x=\"694.287109\" xlink:href=\"#DejaVuSans-101\"/>\n       <use x=\"755.810547\" xlink:href=\"#DejaVuSans-110\"/>\n       <use x=\"819.189453\" xlink:href=\"#DejaVuSans-100\"/>\n       <use x=\"882.666016\" xlink:href=\"#DejaVuSans-105\"/>\n       <use x=\"910.449219\" xlink:href=\"#DejaVuSans-110\"/>\n       <use x=\"973.828125\" xlink:href=\"#DejaVuSans-103\"/>\n       <use x=\"1037.304688\" xlink:href=\"#DejaVuSans-46\"/>\n       <use x=\"1069.091797\" xlink:href=\"#DejaVuSans-116\"/>\n       <use x=\"1108.300781\" xlink:href=\"#DejaVuSans-120\"/>\n       <use x=\"1167.480469\" xlink:href=\"#DejaVuSans-116\"/>\n      </g>\n     </g>\n    </g>\n    <g id=\"xtick_12\">\n     <g id=\"line2d_12\">\n      <g>\n       <use style=\"stroke:#000000;stroke-width:0.8;\" x=\"221.974716\" xlink:href=\"#med25aadbdf\" y=\"224.64\"/>\n      </g>\n     </g>\n     <g id=\"text_12\">\n      <!-- g21-badcamp.txt -->\n      <g transform=\"translate(178.895028 239.238438)scale(0.1 -0.1)\">\n       <use xlink:href=\"#DejaVuSans-103\"/>\n       <use x=\"63.476562\" xlink:href=\"#DejaVuSans-50\"/>\n       <use x=\"127.099609\" xlink:href=\"#DejaVuSans-49\"/>\n       <use x=\"190.722656\" xlink:href=\"#DejaVuSans-45\"/>\n       <use x=\"226.806641\" xlink:href=\"#DejaVuSans-98\"/>\n       <use x=\"290.283203\" xlink:href=\"#DejaVuSans-97\"/>\n       <use x=\"351.5625\" xlink:href=\"#DejaVuSans-100\"/>\n       <use x=\"415.039062\" xlink:href=\"#DejaVuSans-99\"/>\n       <use x=\"470.019531\" xlink:href=\"#DejaVuSans-97\"/>\n       <use x=\"531.298828\" xlink:href=\"#DejaVuSans-109\"/>\n       <use x=\"628.710938\" xlink:href=\"#DejaVuSans-112\"/>\n       <use x=\"692.1875\" xlink:href=\"#DejaVuSans-46\"/>\n       <use x=\"723.974609\" xlink:href=\"#DejaVuSans-116\"/>\n       <use x=\"763.183594\" xlink:href=\"#DejaVuSans-120\"/>\n       <use x=\"822.363281\" xlink:href=\"#DejaVuSans-116\"/>\n      </g>\n     </g>\n    </g>\n    <g id=\"xtick_13\">\n     <g id=\"line2d_13\">\n      <g>\n       <use style=\"stroke:#000000;stroke-width:0.8;\" x=\"237.192898\" xlink:href=\"#med25aadbdf\" y=\"224.64\"/>\n      </g>\n     </g>\n     <g id=\"text_13\">\n      <!-- g19-alfred.txt -->\n      <g transform=\"translate(202.976491 239.238438)scale(0.1 -0.1)\">\n       <defs>\n        <path d=\"M 10.984375 1.515625 \nL 10.984375 10.5 \nQ 14.703125 8.734375 18.5 7.8125 \nQ 22.3125 6.890625 25.984375 6.890625 \nQ 35.75 6.890625 40.890625 13.453125 \nQ 46.046875 20.015625 46.78125 33.40625 \nQ 43.953125 29.203125 39.59375 26.953125 \nQ 35.25 24.703125 29.984375 24.703125 \nQ 19.046875 24.703125 12.671875 31.3125 \nQ 6.296875 37.9375 6.296875 49.421875 \nQ 6.296875 60.640625 12.9375 67.421875 \nQ 19.578125 74.21875 30.609375 74.21875 \nQ 43.265625 74.21875 49.921875 64.515625 \nQ 56.59375 54.828125 56.59375 36.375 \nQ 56.59375 19.140625 48.40625 8.859375 \nQ 40.234375 -1.421875 26.421875 -1.421875 \nQ 22.703125 -1.421875 18.890625 -0.6875 \nQ 15.09375 0.046875 10.984375 1.515625 \nz\nM 30.609375 32.421875 \nQ 37.25 32.421875 41.125 36.953125 \nQ 45.015625 41.5 45.015625 49.421875 \nQ 45.015625 57.28125 41.125 61.84375 \nQ 37.25 66.40625 30.609375 66.40625 \nQ 23.96875 66.40625 20.09375 61.84375 \nQ 16.21875 57.28125 16.21875 49.421875 \nQ 16.21875 41.5 20.09375 36.953125 \nQ 23.96875 32.421875 30.609375 32.421875 \nz\n\" id=\"DejaVuSans-57\"/>\n       </defs>\n       <use xlink:href=\"#DejaVuSans-103\"/>\n       <use x=\"63.476562\" xlink:href=\"#DejaVuSans-49\"/>\n       <use x=\"127.099609\" xlink:href=\"#DejaVuSans-57\"/>\n       <use x=\"190.722656\" xlink:href=\"#DejaVuSans-45\"/>\n       <use x=\"226.806641\" xlink:href=\"#DejaVuSans-97\"/>\n       <use x=\"288.085938\" xlink:href=\"#DejaVuSans-108\"/>\n       <use x=\"315.869141\" xlink:href=\"#DejaVuSans-102\"/>\n       <use x=\"351.074219\" xlink:href=\"#DejaVuSans-114\"/>\n       <use x=\"389.9375\" xlink:href=\"#DejaVuSans-101\"/>\n       <use x=\"451.460938\" xlink:href=\"#DejaVuSans-100\"/>\n       <use x=\"514.9375\" xlink:href=\"#DejaVuSans-46\"/>\n       <use x=\"546.724609\" xlink:href=\"#DejaVuSans-116\"/>\n       <use x=\"585.933594\" xlink:href=\"#DejaVuSans-120\"/>\n       <use x=\"645.113281\" xlink:href=\"#DejaVuSans-116\"/>\n      </g>\n     </g>\n    </g>\n    <g id=\"xtick_14\">\n     <g id=\"line2d_14\">\n      <g>\n       <use style=\"stroke:#000000;stroke-width:0.8;\" x=\"252.41108\" xlink:href=\"#med25aadbdf\" y=\"224.64\"/>\n      </g>\n     </g>\n     <g id=\"text_14\">\n      <!-- g13-planningpoker.txt -->\n      <g transform=\"translate(197.281392 239.238438)scale(0.1 -0.1)\">\n       <use xlink:href=\"#DejaVuSans-103\"/>\n       <use x=\"63.476562\" xlink:href=\"#DejaVuSans-49\"/>\n       <use x=\"127.099609\" xlink:href=\"#DejaVuSans-51\"/>\n       <use x=\"190.722656\" xlink:href=\"#DejaVuSans-45\"/>\n       <use x=\"226.806641\" xlink:href=\"#DejaVuSans-112\"/>\n       <use x=\"290.283203\" xlink:href=\"#DejaVuSans-108\"/>\n       <use x=\"318.066406\" xlink:href=\"#DejaVuSans-97\"/>\n       <use x=\"379.345703\" xlink:href=\"#DejaVuSans-110\"/>\n       <use x=\"442.724609\" xlink:href=\"#DejaVuSans-110\"/>\n       <use x=\"506.103516\" xlink:href=\"#DejaVuSans-105\"/>\n       <use x=\"533.886719\" xlink:href=\"#DejaVuSans-110\"/>\n       <use x=\"597.265625\" xlink:href=\"#DejaVuSans-103\"/>\n       <use x=\"660.742188\" xlink:href=\"#DejaVuSans-112\"/>\n       <use x=\"724.21875\" xlink:href=\"#DejaVuSans-111\"/>\n       <use x=\"785.400391\" xlink:href=\"#DejaVuSans-107\"/>\n       <use x=\"839.685547\" xlink:href=\"#DejaVuSans-101\"/>\n       <use x=\"901.208984\" xlink:href=\"#DejaVuSans-114\"/>\n       <use x=\"933.197266\" xlink:href=\"#DejaVuSans-46\"/>\n       <use x=\"964.984375\" xlink:href=\"#DejaVuSans-116\"/>\n       <use x=\"1004.193359\" xlink:href=\"#DejaVuSans-120\"/>\n       <use x=\"1063.373047\" xlink:href=\"#DejaVuSans-116\"/>\n      </g>\n     </g>\n    </g>\n    <g id=\"xtick_15\">\n     <g id=\"line2d_15\">\n      <g>\n       <use style=\"stroke:#000000;stroke-width:0.8;\" x=\"267.629261\" xlink:href=\"#med25aadbdf\" y=\"224.64\"/>\n      </g>\n     </g>\n     <g id=\"text_15\">\n      <!-- g24-unibath.txt -->\n      <g transform=\"translate(228.726136 239.238438)scale(0.1 -0.1)\">\n       <defs>\n        <path d=\"M 37.796875 64.3125 \nL 12.890625 25.390625 \nL 37.796875 25.390625 \nz\nM 35.203125 72.90625 \nL 47.609375 72.90625 \nL 47.609375 25.390625 \nL 58.015625 25.390625 \nL 58.015625 17.1875 \nL 47.609375 17.1875 \nL 47.609375 0 \nL 37.796875 0 \nL 37.796875 17.1875 \nL 4.890625 17.1875 \nL 4.890625 26.703125 \nz\n\" id=\"DejaVuSans-52\"/>\n       </defs>\n       <use xlink:href=\"#DejaVuSans-103\"/>\n       <use x=\"63.476562\" xlink:href=\"#DejaVuSans-50\"/>\n       <use x=\"127.099609\" xlink:href=\"#DejaVuSans-52\"/>\n       <use x=\"190.722656\" xlink:href=\"#DejaVuSans-45\"/>\n       <use x=\"226.806641\" xlink:href=\"#DejaVuSans-117\"/>\n       <use x=\"290.185547\" xlink:href=\"#DejaVuSans-110\"/>\n       <use x=\"353.564453\" xlink:href=\"#DejaVuSans-105\"/>\n       <use x=\"381.347656\" xlink:href=\"#DejaVuSans-98\"/>\n       <use x=\"444.824219\" xlink:href=\"#DejaVuSans-97\"/>\n       <use x=\"506.103516\" xlink:href=\"#DejaVuSans-116\"/>\n       <use x=\"545.3125\" xlink:href=\"#DejaVuSans-104\"/>\n       <use x=\"608.691406\" xlink:href=\"#DejaVuSans-46\"/>\n       <use x=\"640.478516\" xlink:href=\"#DejaVuSans-116\"/>\n       <use x=\"679.6875\" xlink:href=\"#DejaVuSans-120\"/>\n       <use x=\"738.867188\" xlink:href=\"#DejaVuSans-116\"/>\n      </g>\n     </g>\n    </g>\n    <g id=\"xtick_16\">\n     <g id=\"line2d_16\">\n      <g>\n       <use style=\"stroke:#000000;stroke-width:0.8;\" x=\"282.847443\" xlink:href=\"#med25aadbdf\" y=\"224.64\"/>\n      </g>\n     </g>\n     <g id=\"text_16\">\n      <!-- g22-rdadmp.txt -->\n      <g transform=\"translate(243.613068 239.238438)scale(0.1 -0.1)\">\n       <use xlink:href=\"#DejaVuSans-103\"/>\n       <use x=\"63.476562\" xlink:href=\"#DejaVuSans-50\"/>\n       <use x=\"127.099609\" xlink:href=\"#DejaVuSans-50\"/>\n       <use x=\"190.722656\" xlink:href=\"#DejaVuSans-45\"/>\n       <use x=\"226.806641\" xlink:href=\"#DejaVuSans-114\"/>\n       <use x=\"266.169922\" xlink:href=\"#DejaVuSans-100\"/>\n       <use x=\"329.646484\" xlink:href=\"#DejaVuSans-97\"/>\n       <use x=\"390.925781\" xlink:href=\"#DejaVuSans-100\"/>\n       <use x=\"454.402344\" xlink:href=\"#DejaVuSans-109\"/>\n       <use x=\"551.814453\" xlink:href=\"#DejaVuSans-112\"/>\n       <use x=\"615.291016\" xlink:href=\"#DejaVuSans-46\"/>\n       <use x=\"647.078125\" xlink:href=\"#DejaVuSans-116\"/>\n       <use x=\"686.287109\" xlink:href=\"#DejaVuSans-120\"/>\n       <use x=\"745.466797\" xlink:href=\"#DejaVuSans-116\"/>\n      </g>\n     </g>\n    </g>\n    <g id=\"xtick_17\">\n     <g id=\"line2d_17\">\n      <g>\n       <use style=\"stroke:#000000;stroke-width:0.8;\" x=\"298.065625\" xlink:href=\"#med25aadbdf\" y=\"224.64\"/>\n      </g>\n     </g>\n     <g id=\"text_17\">\n      <!-- g05-openspending.txt -->\n      <g transform=\"translate(242.753125 239.238438)scale(0.1 -0.1)\">\n       <use xlink:href=\"#DejaVuSans-103\"/>\n       <use x=\"63.476562\" xlink:href=\"#DejaVuSans-48\"/>\n       <use x=\"127.099609\" xlink:href=\"#DejaVuSans-53\"/>\n       <use x=\"190.722656\" xlink:href=\"#DejaVuSans-45\"/>\n       <use x=\"228.681641\" xlink:href=\"#DejaVuSans-111\"/>\n       <use x=\"289.863281\" xlink:href=\"#DejaVuSans-112\"/>\n       <use x=\"353.339844\" xlink:href=\"#DejaVuSans-101\"/>\n       <use x=\"414.863281\" xlink:href=\"#DejaVuSans-110\"/>\n       <use x=\"478.242188\" xlink:href=\"#DejaVuSans-115\"/>\n       <use x=\"530.341797\" xlink:href=\"#DejaVuSans-112\"/>\n       <use x=\"593.818359\" xlink:href=\"#DejaVuSans-101\"/>\n       <use x=\"655.341797\" xlink:href=\"#DejaVuSans-110\"/>\n       <use x=\"718.720703\" xlink:href=\"#DejaVuSans-100\"/>\n       <use x=\"782.197266\" xlink:href=\"#DejaVuSans-105\"/>\n       <use x=\"809.980469\" xlink:href=\"#DejaVuSans-110\"/>\n       <use x=\"873.359375\" xlink:href=\"#DejaVuSans-103\"/>\n       <use x=\"936.835938\" xlink:href=\"#DejaVuSans-46\"/>\n       <use x=\"968.623047\" xlink:href=\"#DejaVuSans-116\"/>\n       <use x=\"1007.832031\" xlink:href=\"#DejaVuSans-120\"/>\n       <use x=\"1067.011719\" xlink:href=\"#DejaVuSans-116\"/>\n      </g>\n     </g>\n    </g>\n    <g id=\"xtick_18\">\n     <g id=\"line2d_18\">\n      <g>\n       <use style=\"stroke:#000000;stroke-width:0.8;\" x=\"313.283807\" xlink:href=\"#med25aadbdf\" y=\"224.64\"/>\n      </g>\n     </g>\n     <g id=\"text_18\">\n      <!-- g11-nsf.txt -->\n      <g transform=\"translate(286.303338 239.238438)scale(0.1 -0.1)\">\n       <use xlink:href=\"#DejaVuSans-103\"/>\n       <use x=\"63.476562\" xlink:href=\"#DejaVuSans-49\"/>\n       <use x=\"127.099609\" xlink:href=\"#DejaVuSans-49\"/>\n       <use x=\"190.722656\" xlink:href=\"#DejaVuSans-45\"/>\n       <use x=\"226.806641\" xlink:href=\"#DejaVuSans-110\"/>\n       <use x=\"290.185547\" xlink:href=\"#DejaVuSans-115\"/>\n       <use x=\"342.285156\" xlink:href=\"#DejaVuSans-102\"/>\n       <use x=\"370.240234\" xlink:href=\"#DejaVuSans-46\"/>\n       <use x=\"402.027344\" xlink:href=\"#DejaVuSans-116\"/>\n       <use x=\"441.236328\" xlink:href=\"#DejaVuSans-120\"/>\n       <use x=\"500.416016\" xlink:href=\"#DejaVuSans-116\"/>\n      </g>\n     </g>\n    </g>\n    <g id=\"xtick_19\">\n     <g id=\"line2d_19\">\n      <g>\n       <use style=\"stroke:#000000;stroke-width:0.8;\" x=\"328.501989\" xlink:href=\"#med25aadbdf\" y=\"224.64\"/>\n      </g>\n     </g>\n     <g id=\"text_19\">\n      <!-- g14-datahub.txt -->\n      <g transform=\"translate(287.918395 239.238438)scale(0.1 -0.1)\">\n       <use xlink:href=\"#DejaVuSans-103\"/>\n       <use x=\"63.476562\" xlink:href=\"#DejaVuSans-49\"/>\n       <use x=\"127.099609\" xlink:href=\"#DejaVuSans-52\"/>\n       <use x=\"190.722656\" xlink:href=\"#DejaVuSans-45\"/>\n       <use x=\"226.806641\" xlink:href=\"#DejaVuSans-100\"/>\n       <use x=\"290.283203\" xlink:href=\"#DejaVuSans-97\"/>\n       <use x=\"351.5625\" xlink:href=\"#DejaVuSans-116\"/>\n       <use x=\"390.771484\" xlink:href=\"#DejaVuSans-97\"/>\n       <use x=\"452.050781\" xlink:href=\"#DejaVuSans-104\"/>\n       <use x=\"515.429688\" xlink:href=\"#DejaVuSans-117\"/>\n       <use x=\"578.808594\" xlink:href=\"#DejaVuSans-98\"/>\n       <use x=\"642.285156\" xlink:href=\"#DejaVuSans-46\"/>\n       <use x=\"674.072266\" xlink:href=\"#DejaVuSans-116\"/>\n       <use x=\"713.28125\" xlink:href=\"#DejaVuSans-120\"/>\n       <use x=\"772.460938\" xlink:href=\"#DejaVuSans-116\"/>\n      </g>\n     </g>\n    </g>\n    <g id=\"xtick_20\">\n     <g id=\"line2d_20\">\n      <g>\n       <use style=\"stroke:#000000;stroke-width:0.8;\" x=\"343.72017\" xlink:href=\"#med25aadbdf\" y=\"224.64\"/>\n      </g>\n     </g>\n     <g id=\"text_20\">\n      <!-- g16-mis.txt -->\n      <g transform=\"translate(315.046733 239.238438)scale(0.1 -0.1)\">\n       <use xlink:href=\"#DejaVuSans-103\"/>\n       <use x=\"63.476562\" xlink:href=\"#DejaVuSans-49\"/>\n       <use x=\"127.099609\" xlink:href=\"#DejaVuSans-54\"/>\n       <use x=\"190.722656\" xlink:href=\"#DejaVuSans-45\"/>\n       <use x=\"226.806641\" xlink:href=\"#DejaVuSans-109\"/>\n       <use x=\"324.21875\" xlink:href=\"#DejaVuSans-105\"/>\n       <use x=\"352.001953\" xlink:href=\"#DejaVuSans-115\"/>\n       <use x=\"404.101562\" xlink:href=\"#DejaVuSans-46\"/>\n       <use x=\"435.888672\" xlink:href=\"#DejaVuSans-116\"/>\n       <use x=\"475.097656\" xlink:href=\"#DejaVuSans-120\"/>\n       <use x=\"534.277344\" xlink:href=\"#DejaVuSans-116\"/>\n      </g>\n     </g>\n    </g>\n    <g id=\"xtick_21\">\n     <g id=\"line2d_21\">\n      <g>\n       <use style=\"stroke:#000000;stroke-width:0.8;\" x=\"358.938352\" xlink:href=\"#med25aadbdf\" y=\"224.64\"/>\n      </g>\n     </g>\n     <g id=\"text_21\">\n      <!-- g27-culrepo.txt -->\n      <g transform=\"translate(320.656321 239.238438)scale(0.1 -0.1)\">\n       <use xlink:href=\"#DejaVuSans-103\"/>\n       <use x=\"63.476562\" xlink:href=\"#DejaVuSans-50\"/>\n       <use x=\"127.099609\" xlink:href=\"#DejaVuSans-55\"/>\n       <use x=\"190.722656\" xlink:href=\"#DejaVuSans-45\"/>\n       <use x=\"226.806641\" xlink:href=\"#DejaVuSans-99\"/>\n       <use x=\"281.787109\" xlink:href=\"#DejaVuSans-117\"/>\n       <use x=\"345.166016\" xlink:href=\"#DejaVuSans-108\"/>\n       <use x=\"372.949219\" xlink:href=\"#DejaVuSans-114\"/>\n       <use x=\"411.8125\" xlink:href=\"#DejaVuSans-101\"/>\n       <use x=\"473.335938\" xlink:href=\"#DejaVuSans-112\"/>\n       <use x=\"536.8125\" xlink:href=\"#DejaVuSans-111\"/>\n       <use x=\"596.244141\" xlink:href=\"#DejaVuSans-46\"/>\n       <use x=\"628.03125\" xlink:href=\"#DejaVuSans-116\"/>\n       <use x=\"667.240234\" xlink:href=\"#DejaVuSans-120\"/>\n       <use x=\"726.419922\" xlink:href=\"#DejaVuSans-116\"/>\n      </g>\n     </g>\n    </g>\n    <g id=\"xtick_22\">\n     <g id=\"line2d_22\">\n      <g>\n       <use style=\"stroke:#000000;stroke-width:0.8;\" x=\"374.156534\" xlink:href=\"#med25aadbdf\" y=\"224.64\"/>\n      </g>\n     </g>\n     <g id=\"text_22\">\n      <!-- g04-recycling.txt -->\n      <g transform=\"translate(331.748722 239.238438)scale(0.1 -0.1)\">\n       <defs>\n        <path d=\"M 32.171875 -5.078125 \nQ 28.375 -14.84375 24.75 -17.8125 \nQ 21.140625 -20.796875 15.09375 -20.796875 \nL 7.90625 -20.796875 \nL 7.90625 -13.28125 \nL 13.1875 -13.28125 \nQ 16.890625 -13.28125 18.9375 -11.515625 \nQ 21 -9.765625 23.484375 -3.21875 \nL 25.09375 0.875 \nL 2.984375 54.6875 \nL 12.5 54.6875 \nL 29.59375 11.921875 \nL 46.6875 54.6875 \nL 56.203125 54.6875 \nz\n\" id=\"DejaVuSans-121\"/>\n       </defs>\n       <use xlink:href=\"#DejaVuSans-103\"/>\n       <use x=\"63.476562\" xlink:href=\"#DejaVuSans-48\"/>\n       <use x=\"127.099609\" xlink:href=\"#DejaVuSans-52\"/>\n       <use x=\"190.722656\" xlink:href=\"#DejaVuSans-45\"/>\n       <use x=\"226.806641\" xlink:href=\"#DejaVuSans-114\"/>\n       <use x=\"265.669922\" xlink:href=\"#DejaVuSans-101\"/>\n       <use x=\"327.193359\" xlink:href=\"#DejaVuSans-99\"/>\n       <use x=\"382.173828\" xlink:href=\"#DejaVuSans-121\"/>\n       <use x=\"441.353516\" xlink:href=\"#DejaVuSans-99\"/>\n       <use x=\"496.333984\" xlink:href=\"#DejaVuSans-108\"/>\n       <use x=\"524.117188\" xlink:href=\"#DejaVuSans-105\"/>\n       <use x=\"551.900391\" xlink:href=\"#DejaVuSans-110\"/>\n       <use x=\"615.279297\" xlink:href=\"#DejaVuSans-103\"/>\n       <use x=\"678.755859\" xlink:href=\"#DejaVuSans-46\"/>\n       <use x=\"710.542969\" xlink:href=\"#DejaVuSans-116\"/>\n       <use x=\"749.751953\" xlink:href=\"#DejaVuSans-120\"/>\n       <use x=\"808.931641\" xlink:href=\"#DejaVuSans-116\"/>\n      </g>\n     </g>\n    </g>\n    <g id=\"text_23\">\n     <!-- file_name -->\n     <g transform=\"translate(190.071094 252.916562)scale(0.1 -0.1)\">\n      <defs>\n       <path d=\"M 50.984375 -16.609375 \nL 50.984375 -23.578125 \nL -0.984375 -23.578125 \nL -0.984375 -16.609375 \nz\n\" id=\"DejaVuSans-95\"/>\n      </defs>\n      <use xlink:href=\"#DejaVuSans-102\"/>\n      <use x=\"35.205078\" xlink:href=\"#DejaVuSans-105\"/>\n      <use x=\"62.988281\" xlink:href=\"#DejaVuSans-108\"/>\n      <use x=\"90.771484\" xlink:href=\"#DejaVuSans-101\"/>\n      <use x=\"152.294922\" xlink:href=\"#DejaVuSans-95\"/>\n      <use x=\"202.294922\" xlink:href=\"#DejaVuSans-110\"/>\n      <use x=\"265.673828\" xlink:href=\"#DejaVuSans-97\"/>\n      <use x=\"326.953125\" xlink:href=\"#DejaVuSans-109\"/>\n      <use x=\"424.365234\" xlink:href=\"#DejaVuSans-101\"/>\n     </g>\n    </g>\n   </g>\n   <g id=\"matplotlib.axis_2\">\n    <g id=\"ytick_1\">\n     <g id=\"line2d_23\">\n      <defs>\n       <path d=\"M 0 0 \nL -3.5 0 \n\" id=\"m2e387dafa2\" style=\"stroke:#000000;stroke-width:0.8;\"/>\n      </defs>\n      <g>\n       <use style=\"stroke:#000000;stroke-width:0.8;\" x=\"46.965625\" xlink:href=\"#m2e387dafa2\" y=\"224.64\"/>\n      </g>\n     </g>\n     <g id=\"text_24\">\n      <!-- 0 -->\n      <g transform=\"translate(33.603125 228.439219)scale(0.1 -0.1)\">\n       <use xlink:href=\"#DejaVuSans-48\"/>\n      </g>\n     </g>\n    </g>\n    <g id=\"ytick_2\">\n     <g id=\"line2d_24\">\n      <g>\n       <use style=\"stroke:#000000;stroke-width:0.8;\" x=\"46.965625\" xlink:href=\"#m2e387dafa2\" y=\"194.408509\"/>\n      </g>\n     </g>\n     <g id=\"text_25\">\n      <!-- 20 -->\n      <g transform=\"translate(27.240625 198.207728)scale(0.1 -0.1)\">\n       <use xlink:href=\"#DejaVuSans-50\"/>\n       <use x=\"63.623047\" xlink:href=\"#DejaVuSans-48\"/>\n      </g>\n     </g>\n    </g>\n    <g id=\"ytick_3\">\n     <g id=\"line2d_25\">\n      <g>\n       <use style=\"stroke:#000000;stroke-width:0.8;\" x=\"46.965625\" xlink:href=\"#m2e387dafa2\" y=\"164.177018\"/>\n      </g>\n     </g>\n     <g id=\"text_26\">\n      <!-- 40 -->\n      <g transform=\"translate(27.240625 167.976236)scale(0.1 -0.1)\">\n       <use xlink:href=\"#DejaVuSans-52\"/>\n       <use x=\"63.623047\" xlink:href=\"#DejaVuSans-48\"/>\n      </g>\n     </g>\n    </g>\n    <g id=\"ytick_4\">\n     <g id=\"line2d_26\">\n      <g>\n       <use style=\"stroke:#000000;stroke-width:0.8;\" x=\"46.965625\" xlink:href=\"#m2e387dafa2\" y=\"133.945527\"/>\n      </g>\n     </g>\n     <g id=\"text_27\">\n      <!-- 60 -->\n      <g transform=\"translate(27.240625 137.744745)scale(0.1 -0.1)\">\n       <use xlink:href=\"#DejaVuSans-54\"/>\n       <use x=\"63.623047\" xlink:href=\"#DejaVuSans-48\"/>\n      </g>\n     </g>\n    </g>\n    <g id=\"ytick_5\">\n     <g id=\"line2d_27\">\n      <g>\n       <use style=\"stroke:#000000;stroke-width:0.8;\" x=\"46.965625\" xlink:href=\"#m2e387dafa2\" y=\"103.714035\"/>\n      </g>\n     </g>\n     <g id=\"text_28\">\n      <!-- 80 -->\n      <g transform=\"translate(27.240625 107.513254)scale(0.1 -0.1)\">\n       <use xlink:href=\"#DejaVuSans-56\"/>\n       <use x=\"63.623047\" xlink:href=\"#DejaVuSans-48\"/>\n      </g>\n     </g>\n    </g>\n    <g id=\"ytick_6\">\n     <g id=\"line2d_28\">\n      <g>\n       <use style=\"stroke:#000000;stroke-width:0.8;\" x=\"46.965625\" xlink:href=\"#m2e387dafa2\" y=\"73.482544\"/>\n      </g>\n     </g>\n     <g id=\"text_29\">\n      <!-- 100 -->\n      <g transform=\"translate(20.878125 77.281763)scale(0.1 -0.1)\">\n       <use xlink:href=\"#DejaVuSans-49\"/>\n       <use x=\"63.623047\" xlink:href=\"#DejaVuSans-48\"/>\n       <use x=\"127.246094\" xlink:href=\"#DejaVuSans-48\"/>\n      </g>\n     </g>\n    </g>\n    <g id=\"ytick_7\">\n     <g id=\"line2d_29\">\n      <g>\n       <use style=\"stroke:#000000;stroke-width:0.8;\" x=\"46.965625\" xlink:href=\"#m2e387dafa2\" y=\"43.251053\"/>\n      </g>\n     </g>\n     <g id=\"text_30\">\n      <!-- 120 -->\n      <g transform=\"translate(20.878125 47.050272)scale(0.1 -0.1)\">\n       <use xlink:href=\"#DejaVuSans-49\"/>\n       <use x=\"63.623047\" xlink:href=\"#DejaVuSans-50\"/>\n       <use x=\"127.246094\" xlink:href=\"#DejaVuSans-48\"/>\n      </g>\n     </g>\n    </g>\n    <g id=\"ytick_8\">\n     <g id=\"line2d_30\">\n      <g>\n       <use style=\"stroke:#000000;stroke-width:0.8;\" x=\"46.965625\" xlink:href=\"#m2e387dafa2\" y=\"13.019562\"/>\n      </g>\n     </g>\n     <g id=\"text_31\">\n      <!-- 140 -->\n      <g transform=\"translate(20.878125 16.818781)scale(0.1 -0.1)\">\n       <use xlink:href=\"#DejaVuSans-49\"/>\n       <use x=\"63.623047\" xlink:href=\"#DejaVuSans-52\"/>\n       <use x=\"127.246094\" xlink:href=\"#DejaVuSans-48\"/>\n      </g>\n     </g>\n    </g>\n    <g id=\"text_32\">\n     <!-- us_count -->\n     <g transform=\"translate(14.520313 138.299688)rotate(-90)scale(0.1 -0.1)\">\n      <use xlink:href=\"#DejaVuSans-117\"/>\n      <use x=\"63.378906\" xlink:href=\"#DejaVuSans-115\"/>\n      <use x=\"115.478516\" xlink:href=\"#DejaVuSans-95\"/>\n      <use x=\"165.478516\" xlink:href=\"#DejaVuSans-99\"/>\n      <use x=\"220.458984\" xlink:href=\"#DejaVuSans-111\"/>\n      <use x=\"281.640625\" xlink:href=\"#DejaVuSans-117\"/>\n      <use x=\"345.019531\" xlink:href=\"#DejaVuSans-110\"/>\n      <use x=\"408.398438\" xlink:href=\"#DejaVuSans-116\"/>\n     </g>\n    </g>\n   </g>\n   <g id=\"line2d_31\">\n    <path clip-path=\"url(#p864fdc1c86)\" d=\"M 0 0 \n\" style=\"fill:none;stroke:#424242;stroke-linecap:square;stroke-width:2.7;\"/>\n   </g>\n   <g id=\"line2d_32\">\n    <path clip-path=\"url(#p864fdc1c86)\" d=\"M 0 0 \n\" style=\"fill:none;stroke:#424242;stroke-linecap:square;stroke-width:2.7;\"/>\n   </g>\n   <g id=\"line2d_33\">\n    <path clip-path=\"url(#p864fdc1c86)\" d=\"M 0 0 \n\" style=\"fill:none;stroke:#424242;stroke-linecap:square;stroke-width:2.7;\"/>\n   </g>\n   <g id=\"line2d_34\">\n    <path clip-path=\"url(#p864fdc1c86)\" d=\"M 0 0 \n\" style=\"fill:none;stroke:#424242;stroke-linecap:square;stroke-width:2.7;\"/>\n   </g>\n   <g id=\"line2d_35\">\n    <path clip-path=\"url(#p864fdc1c86)\" d=\"M 0 0 \n\" style=\"fill:none;stroke:#424242;stroke-linecap:square;stroke-width:2.7;\"/>\n   </g>\n   <g id=\"line2d_36\">\n    <path clip-path=\"url(#p864fdc1c86)\" d=\"M 0 0 \n\" style=\"fill:none;stroke:#424242;stroke-linecap:square;stroke-width:2.7;\"/>\n   </g>\n   <g id=\"line2d_37\">\n    <path clip-path=\"url(#p864fdc1c86)\" d=\"M 0 0 \n\" style=\"fill:none;stroke:#424242;stroke-linecap:square;stroke-width:2.7;\"/>\n   </g>\n   <g id=\"line2d_38\">\n    <path clip-path=\"url(#p864fdc1c86)\" d=\"M 0 0 \n\" style=\"fill:none;stroke:#424242;stroke-linecap:square;stroke-width:2.7;\"/>\n   </g>\n   <g id=\"line2d_39\">\n    <path clip-path=\"url(#p864fdc1c86)\" d=\"M 0 0 \n\" style=\"fill:none;stroke:#424242;stroke-linecap:square;stroke-width:2.7;\"/>\n   </g>\n   <g id=\"line2d_40\">\n    <path clip-path=\"url(#p864fdc1c86)\" d=\"M 0 0 \n\" style=\"fill:none;stroke:#424242;stroke-linecap:square;stroke-width:2.7;\"/>\n   </g>\n   <g id=\"line2d_41\">\n    <path clip-path=\"url(#p864fdc1c86)\" d=\"M 0 0 \n\" style=\"fill:none;stroke:#424242;stroke-linecap:square;stroke-width:2.7;\"/>\n   </g>\n   <g id=\"line2d_42\">\n    <path clip-path=\"url(#p864fdc1c86)\" d=\"M 0 0 \n\" style=\"fill:none;stroke:#424242;stroke-linecap:square;stroke-width:2.7;\"/>\n   </g>\n   <g id=\"line2d_43\">\n    <path clip-path=\"url(#p864fdc1c86)\" d=\"M 0 0 \n\" style=\"fill:none;stroke:#424242;stroke-linecap:square;stroke-width:2.7;\"/>\n   </g>\n   <g id=\"line2d_44\">\n    <path clip-path=\"url(#p864fdc1c86)\" d=\"M 0 0 \n\" style=\"fill:none;stroke:#424242;stroke-linecap:square;stroke-width:2.7;\"/>\n   </g>\n   <g id=\"line2d_45\">\n    <path clip-path=\"url(#p864fdc1c86)\" d=\"M 0 0 \n\" style=\"fill:none;stroke:#424242;stroke-linecap:square;stroke-width:2.7;\"/>\n   </g>\n   <g id=\"line2d_46\">\n    <path clip-path=\"url(#p864fdc1c86)\" d=\"M 0 0 \n\" style=\"fill:none;stroke:#424242;stroke-linecap:square;stroke-width:2.7;\"/>\n   </g>\n   <g id=\"line2d_47\">\n    <path clip-path=\"url(#p864fdc1c86)\" d=\"M 0 0 \n\" style=\"fill:none;stroke:#424242;stroke-linecap:square;stroke-width:2.7;\"/>\n   </g>\n   <g id=\"line2d_48\">\n    <path clip-path=\"url(#p864fdc1c86)\" d=\"M 0 0 \n\" style=\"fill:none;stroke:#424242;stroke-linecap:square;stroke-width:2.7;\"/>\n   </g>\n   <g id=\"line2d_49\">\n    <path clip-path=\"url(#p864fdc1c86)\" d=\"M 0 0 \n\" style=\"fill:none;stroke:#424242;stroke-linecap:square;stroke-width:2.7;\"/>\n   </g>\n   <g id=\"line2d_50\">\n    <path clip-path=\"url(#p864fdc1c86)\" d=\"M 0 0 \n\" style=\"fill:none;stroke:#424242;stroke-linecap:square;stroke-width:2.7;\"/>\n   </g>\n   <g id=\"line2d_51\">\n    <path clip-path=\"url(#p864fdc1c86)\" d=\"M 0 0 \n\" style=\"fill:none;stroke:#424242;stroke-linecap:square;stroke-width:2.7;\"/>\n   </g>\n   <g id=\"line2d_52\">\n    <path clip-path=\"url(#p864fdc1c86)\" d=\"M 0 0 \n\" style=\"fill:none;stroke:#424242;stroke-linecap:square;stroke-width:2.7;\"/>\n   </g>\n   <g id=\"patch_25\">\n    <path d=\"M 46.965625 224.64 \nL 46.965625 7.2 \n\" style=\"fill:none;stroke:#000000;stroke-linecap:square;stroke-linejoin:miter;stroke-width:0.8;\"/>\n   </g>\n   <g id=\"patch_26\">\n    <path d=\"M 381.765625 224.64 \nL 381.765625 7.2 \n\" style=\"fill:none;stroke:#000000;stroke-linecap:square;stroke-linejoin:miter;stroke-width:0.8;\"/>\n   </g>\n   <g id=\"patch_27\">\n    <path d=\"M 46.965625 224.64 \nL 381.765625 224.64 \n\" style=\"fill:none;stroke:#000000;stroke-linecap:square;stroke-linejoin:miter;stroke-width:0.8;\"/>\n   </g>\n   <g id=\"patch_28\">\n    <path d=\"M 46.965625 7.2 \nL 381.765625 7.2 \n\" style=\"fill:none;stroke:#000000;stroke-linecap:square;stroke-linejoin:miter;stroke-width:0.8;\"/>\n   </g>\n  </g>\n </g>\n <defs>\n  <clipPath id=\"p864fdc1c86\">\n   <rect height=\"217.44\" width=\"334.8\" x=\"46.965625\" y=\"7.2\"/>\n  </clipPath>\n </defs>\n</svg>\n",
      "image/png": "[encoded data removed]"
     },
     "metadata": {
      "needs_background": "light"
     }
    }
   ],
   "source": [
    "ax=sns.barplot(x='file_name', y='us_count', data=user_story_f_df)"
   ]
  },
  {
   "source": [
    "### Question 3: What is the topic of each file?"
   ],
   "cell_type": "markdown",
   "metadata": {}
  },
  {
   "cell_type": "code",
   "execution_count": null,
   "metadata": {},
   "outputs": [],
   "source": []
  },
  {
   "cell_type": "code",
   "execution_count": 9,
   "metadata": {},
   "outputs": [],
   "source": [
    "def annotate_text(clean_user_story):\n",
    "    rnlp=spacy.load('en_core_web_sm')\n",
    "    rnlp.add_pipe(rme_custom_sents,before='parser')\n",
    "    #rme_df=pd.DataFrame(columns=['id','sentence','role','mean','end','start_idx','end_idx','lable','token_text'])\n",
    "    nlp2=spacy.load('en_core_web_sm')\n",
    "    #nlp2.add_pipe(custom_sents,before='parser')\n",
    "    docc=nlp2(clean_user_story)\n",
    "    rme_df=pd.DataFrame()\n",
    "    i=0\n",
    "    id_ls=[]\n",
    "    sen_ls=[]\n",
    "    for sent_i,sc in enumerate(docc.sents):\n",
    "        id_ls.append(sent_i+1)\n",
    "        sen_ls.append(sc.text.strip('|').strip())\n",
    "    rme_df['id']=id_ls\n",
    "    rme_df['sentence']=sen_ls\n",
    "\n",
    "\n",
    "\n",
    "    ent_df=pd.DataFrame()\n",
    "    #entities_dic = {} \n",
    "    C2_start=[]\n",
    "    C2_end=[]\n",
    "    C2_lable=[]\n",
    "    C2_text=[]\n",
    "    C2_sent=[]\n",
    "    c2_matcher=Matcher(nlp2.vocab)\n",
    "    c2_pattern = [{'POS': 'NOUN'}]\n",
    "    docc=nlp2(clean_user_story)\n",
    "    c2_matcher.add('c2_pattern',None,c2_pattern)\n",
    "\n",
    "    C3_start=[]\n",
    "    C3_end=[]\n",
    "    C3_lable=[]\n",
    "    C3_text=[]\n",
    "    C3_sent=[]\n",
    "    c3_matcher=Matcher(nlp2.vocab)\n",
    "    c3_pattern = [{'DEP': 'nsubj','POS': 'NOUN'}]\n",
    "    c3_matcher.add('c3_pattern',None,c3_pattern)\n",
    "\n",
    "    C4_start=[]\n",
    "    C4_end=[]\n",
    "    C4_lable=[]\n",
    "    C4_text=[]\n",
    "    C4_sent=[]\n",
    "    c4_matcher=Matcher(nlp2.vocab)\n",
    "    c4_pattern = [{'DEP': 'compound'}]\n",
    "    c4_matcher.add('c4_pattern',None,c4_pattern)\n",
    "\n",
    "    H2_start=[]\n",
    "    H2_end=[]\n",
    "    H2_lable=[]\n",
    "    H2_text=[]\n",
    "    H2_sent=[]\n",
    "\n",
    "    R5_start=[]\n",
    "    R5_end=[]\n",
    "    R5_lable=[]\n",
    "    R5_text=[]\n",
    "    R5_sent=[]\n",
    "    #for match_id,start,end in c2_matcher(docc):\n",
    "        #span=docc[start:end]#C2\n",
    "        #C2_start.append(span.start_char)\n",
    "        #C2_end.append(span.end_char)\n",
    "        #C2_lable.append(\"C2\")\n",
    "        #C2_text.append(span.text)\n",
    "        #C2_sent.append(span.sent.text)\n",
    "\n",
    "    for match_id,start,end in c3_matcher(docc):\n",
    "        span=docc[start:end]#C3\n",
    "        C3_start.append(span.start_char)\n",
    "        C3_end.append(span.end_char)\n",
    "        C3_lable.append(\"C3\")\n",
    "        C3_text.append(span.text)\n",
    "        C3_sent.append(span.sent.text)\n",
    "\n",
    "    ent_df['start_idx']=C3_start+C4_start\n",
    "    ent_df['end_idx']=C3_end+C4_end\n",
    "    ent_df['lable']=C3_lable+C4_lable\n",
    "    #ent_df['text']=C2_text+C3_text+C4_text+H2_text+R5_text\n",
    "    #ent_df['sentence']=C2_sent+C3_sent+C4_sent+H2_sent+R5_sent\n",
    "    ent_df\n",
    "    #temp_df=pd.merge(rme_df, ent_df, on='sentence')\n",
    "    #temp_df\n",
    "\n",
    "    rel_df=pd.DataFrame()\n",
    "    V_start=[]\n",
    "    V_end=[]\n",
    "    V_lable=[]\n",
    "    V_text=[]\n",
    "    V_sent=[]\n",
    "    V_matcher=Matcher(nlp2.vocab)\n",
    "    v_pattern = [{'POS': 'VERB'}]\n",
    "    #docc=nlp2(clean_user_story)\n",
    "    V_matcher.add('v_pattern',None,v_pattern)\n",
    "\n",
    "    Vp_start=[]\n",
    "    Vp_end=[]\n",
    "    Vp_lable=[]\n",
    "    Vp_text=[]\n",
    "    Vp_sent=[]\n",
    "    Vp_matcher=Matcher(nlp2.vocab)\n",
    "    vp_pattern = [{'POS': 'VERB'},\n",
    "                    {'DEP':'prep'}]\n",
    "    #docc=nlp2(clean_user_story)\n",
    "    Vp_matcher.add('vp_pattern',None,vp_pattern)\n",
    "\n",
    "    dobj_start=[]\n",
    "    dobj_end=[]\n",
    "    dobj_lable=[]\n",
    "    dobj_text=[]\n",
    "    dobj_sent=[]\n",
    "    dobj_matcher=Matcher(nlp2.vocab)\n",
    "    dobj_pattern = [{'DEP': 'dobj', 'POS': 'NOUN'}]\n",
    "    dobj_matcher.add('dobj_pattern',None,dobj_pattern)\n",
    "\n",
    "    iobj_start=[]\n",
    "    iobj_end=[]\n",
    "    iobj_lable=[]\n",
    "    iobj_text=[]\n",
    "    iobj_sent=[]\n",
    "    iobj_matcher=Matcher(nlp2.vocab)\n",
    "    iobj_pattern = [{'DEP': 'iobj', 'POS': 'NOUN'}]\n",
    "    iobj_matcher.add('iobj_pattern',None,iobj_pattern)\n",
    "\n",
    "    pobj_start=[]\n",
    "    pobj_end=[]\n",
    "    pobj_lable=[]\n",
    "    pobj_text=[]\n",
    "    pobj_sent=[]\n",
    "    pobj_matcher=Matcher(nlp2.vocab)\n",
    "    pobj_pattern = [{'DEP': 'pobj', 'POS': 'NOUN'}]\n",
    "    pobj_matcher.add('pobj_pattern',None,pobj_pattern)\n",
    "\n",
    "    for match_id,start,end in V_matcher(docc):\n",
    "        span=docc[start:end]\n",
    "        V_start.append(span.start_char)\n",
    "        V_end.append(span.end_char)\n",
    "        V_lable.append(\"R2\")\n",
    "        V_text.append(span.text)\n",
    "        V_sent.append(span.sent.text)\n",
    "        #for token in span:\n",
    "            #if check_verb(token)=='TRANVERB':\n",
    "\n",
    "\n",
    "            \n",
    "\n",
    "    #for match_id,start,end in Vp_matcher(docc):\n",
    "        #   span=docc[start:end]#R4\n",
    "        #  Vp_start.append(span.start_char)\n",
    "        # Vp_end.append(span.end_char)\n",
    "        # Vp_lable.append(\"R4\")\n",
    "        # Vp_text.append(span.text)\n",
    "        #Vp_sent.append(span.sent.text)\n",
    "\n",
    "\n",
    "    for match_id,start,end in dobj_matcher(docc):\n",
    "        span=docc[start:end]\n",
    "        dobj_start.append(span.start_char)\n",
    "        dobj_end.append(span.end_char)\n",
    "        dobj_lable.append(\"C2\")\n",
    "        dobj_text.append(span.text)\n",
    "        dobj_sent.append(span.sent.text)\n",
    "\n",
    "    for match_id,start,end in pobj_matcher(docc):\n",
    "        span=docc[start:end]\n",
    "        pobj_start.append(span.start_char)\n",
    "        pobj_end.append(span.end_char)\n",
    "        pobj_lable.append(\"C2\")\n",
    "        pobj_text.append(span.text)\n",
    "        pobj_sent.append(span.sent.text)    \n",
    "\n",
    "    rel_df['start_idx']=V_start+dobj_start+pobj_start\n",
    "    rel_df['end_idx']=V_end+dobj_end+pobj_start\n",
    "    rel_df['lable']=V_lable+dobj_lable+pobj_lable\n",
    "    #rel_df['text']=V_text+Vp_text+dobj_text+pobj_text\n",
    "    #rel_df['sentence']=V_sent+Vp_sent+dobj_sent+pobj_sent\n",
    "    #rel_temp_df=pd.merge(rme_df, rel_df, on='sentence')\n",
    "    #full_df=pd.concat([temp_df,rel_temp_df])\n",
    "    #full_df=full_df.drop_duplicates()\n",
    "\n",
    "    full_df1=pd.concat([ent_df,rel_df])\n",
    "    full_df1=full_df1.drop_duplicates()\n",
    "    label_ls=[]\n",
    "    for index,row in full_df1.iterrows():\n",
    "        label_ls.append((row['start_idx'],row['end_idx'],row['lable']))\n",
    "    label_dic={}\n",
    "    label_dic['entities']=label_ls\n",
    "\n",
    "\n",
    "    return label_dic\n"
   ]
  },
  {
   "cell_type": "code",
   "execution_count": 10,
   "metadata": {},
   "outputs": [],
   "source": [
    "def generate_train_data(train_data_tp):\n",
    "    #train_data_tp=(clean_user_story,labels_dic)\n",
    "    text_file = open(\"train_data.txt\", \"w\")\n",
    "    text_file.write(str(train_data_tp))\n",
    "    text_file.close()\n",
    "    return text_file"
   ]
  },
  {
   "cell_type": "code",
   "execution_count": 11,
   "metadata": {},
   "outputs": [
    {
     "output_type": "execute_result",
     "data": {
      "text/plain": [
       "<_io.TextIOWrapper name='train_data.txt' mode='w' encoding='UTF-8'>"
      ]
     },
     "metadata": {},
     "execution_count": 11
    }
   ],
   "source": [
    "\n",
    "#splitting data\n",
    "train_set=math.floor(len([file for file in os.listdir(rootdir)])*.7)# 70% of tha data \n",
    "\n",
    "train_data_ls=[]\n",
    "for subdir, dirs, files in os.walk(rootdir):\n",
    "    for i,file in enumerate(files):\n",
    "        if i<train_set:\n",
    "            filepath = subdir + os.sep + file\n",
    "            user_story=get_text(filepath)\n",
    "            clean_user_story=preprocess_text(user_story)\n",
    "            labels_dic=annotate_text(clean_user_story)\n",
    "            train_data_tp=(clean_user_story,labels_dic)\n",
    "            train_data_ls.append((train_data_tp))\n",
    "generate_train_data(train_data_ls)"
   ]
  },
  {
   "cell_type": "code",
   "execution_count": 12,
   "metadata": {},
   "outputs": [],
   "source": [
    "pkl_file=open('train_data.pkl','wb')\n",
    "pickle.dump(train_data_ls,pkl_file)\n",
    "pkl_file.close()\n"
   ]
  },
  {
   "cell_type": "code",
   "execution_count": 13,
   "metadata": {},
   "outputs": [],
   "source": [
    "train_data=pickle.load(open('train_data.pkl','rb'))"
   ]
  },
  {
   "cell_type": "code",
   "execution_count": 14,
   "metadata": {},
   "outputs": [],
   "source": [
    "nlp10=spacy.blank('en')\n",
    "def train_model(train_data):\n",
    "    if 'ner' not in nlp10.pipe_names:\n",
    "        ner=nlp10.create_pipe('ner')\n",
    "        nlp10.add_pipe(ner,last=True)\n",
    "    for _,annotation in train_data:\n",
    "        for ent in annotation['entities']:\n",
    "            ner.add_label(ent[2])\n",
    "    # get names of other pipes to disable them during training\n",
    "    pipe_exceptions = [\"ner\", \"trf_wordpiecer\", \"trf_tok2vec\"]\n",
    "    other_pipes = [pipe for pipe in nlp10.pipe_names if pipe not in pipe_exceptions]\n",
    "    # only train NER\n",
    "    with nlp10.disable_pipes(*other_pipes), warnings.catch_warnings():\n",
    "        # show warnings for misaligned entity spans once\n",
    "        warnings.filterwarnings(\"once\", category=UserWarning, module='spacy')\n",
    "\n",
    "        # reset and initialize the weights randomly – but only if we're\n",
    "        # training a new model\n",
    "        \n",
    "        nlp10.begin_training()\n",
    "        for itn in range(30):\n",
    "            random.shuffle(train_data)\n",
    "            losses = {}\n",
    "            # batch up the examples using spaCy's minibatch\n",
    "            batches = minibatch(train_data, size=compounding(4.0, 32.0, 1.001))\n",
    "            for batch in batches:\n",
    "                texts, annotations = zip(*batch)\n",
    "                nlp10.update(\n",
    "                    texts,  # batch of texts\n",
    "                    annotations,  # batch of annotations\n",
    "                    drop=0.5,  # dropout - make it harder to memorise data\n",
    "                    losses=losses,\n",
    "                )\n",
    "            print(\"Losses\", losses)"
   ]
  },
  {
   "cell_type": "code",
   "execution_count": 15,
   "metadata": {},
   "outputs": [
    {
     "output_type": "stream",
     "name": "stderr",
     "text": [
      "/Users/alqahtsa/opt/anaconda3/lib/python3.8/site-packages/spacy/language.py:635: UserWarning: [W033] Training a new parser or NER using a model with an empty lexeme normalization table. This may degrade the performance to some degree. If this is intentional or this language doesn't have a normalization table, please ignore this warning.\n",
      "  proc.begin_training(\n",
      "/Users/alqahtsa/opt/anaconda3/lib/python3.8/site-packages/spacy/language.py:635: UserWarning: [W034] Please install the package spacy-lookups-data in order to include the default lexeme normalization table for the language 'en'.\n",
      "  proc.begin_training(\n",
      "Losses {'ner': 26684.57846069336}\n",
      "Losses {'ner': 19113.793411254883}\n",
      "Losses {'ner': 11219.069913864136}\n",
      "Losses {'ner': 10911.942171096802}\n",
      "Losses {'ner': 10916.95958328247}\n",
      "Losses {'ner': 10110.30926322937}\n",
      "Losses {'ner': 9498.654777526855}\n",
      "Losses {'ner': 8477.914203643799}\n",
      "Losses {'ner': 8076.770166397095}\n",
      "Losses {'ner': 7197.0363845825195}\n",
      "Losses {'ner': 7090.1977071762085}\n",
      "Losses {'ner': 6427.361822605133}\n",
      "Losses {'ner': 5912.616696357727}\n",
      "Losses {'ner': 5623.343173742294}\n",
      "Losses {'ner': 5477.0849142074585}\n",
      "Losses {'ner': 4835.527111530304}\n",
      "Losses {'ner': 4811.207501173019}\n",
      "Losses {'ner': 4377.280557155609}\n",
      "Losses {'ner': 3970.2379789352417}\n",
      "Losses {'ner': 3767.6652598381042}\n",
      "Losses {'ner': 3509.750184059143}\n",
      "Losses {'ner': 3200.132840871811}\n",
      "Losses {'ner': 3229.917339324951}\n",
      "Losses {'ner': 2894.1914558410645}\n",
      "Losses {'ner': 2834.4989132881165}\n",
      "Losses {'ner': 2636.183746576309}\n",
      "Losses {'ner': 2667.0631017684937}\n",
      "Losses {'ner': 2457.1908423900604}\n",
      "Losses {'ner': 2434.8717761039734}\n",
      "Losses {'ner': 2300.6159224510193}\n"
     ]
    }
   ],
   "source": [
    "train_model(train_data)\n"
   ]
  },
  {
   "cell_type": "code",
   "execution_count": 17,
   "metadata": {},
   "outputs": [],
   "source": [
    "ner_model=spacy.load('ner_model2')"
   ]
  },
  {
   "cell_type": "code",
   "execution_count": 18,
   "metadata": {},
   "outputs": [
    {
     "output_type": "stream",
     "name": "stdout",
     "text": [
      "R2                            - want\nR2                            - deposit\nR2                            - maintain\nC2                            - datasets\nR2                            - need\nR2                            - install\nR2                            - learn\nC2                            - software\nR2                            - deposit\nR2                            - want\nC2                            - interface\nR2                            - feel\nR2                            - like\nR2                            - joined\nR2                            - want\nR2                            - deposit\nR2                            - maintain\nC2                            - datasets\nR2                            - managing\nC2                            - outputs\nR2                            - want\nR2                            - deposit\nR2                            - maintain\nC2                            - datasets\nR2                            - continue\nR2                            - work\nR2                            - want\nR2                            - deposit\nC2                            - files\nR2                            - spend\nC2                            - lot\nR2                            - finding\nC2                            - version\nR2                            - converting\nR2                            - want\nR2                            - place\nC2                            - embargo\nR2                            - use\nR2                            - protected\nR2                            - fulfil\nC2                            - responsibilities\nR2                            - want\nR2                            - apply\nC2                            - licenses\nR2                            - protected\nR2                            - want\nR2                            - allow\nR2                            - privileged\nC2                            - access\nR2                            - continue\nC2                            - relationship\nR2                            - want\nR2                            - deposit\nC2                            - files\nR2                            - limited\nR2                            - deposit\nR2                            - want\nR2                            - link\nC2                            - datasets\nR2                            - discovered\nR2                            - want\nR2                            - mint\nR2                            - discovered\nR2                            - cited\nR2                            - tracked\nR2                            - receive\nC2                            - credit\nR2                            - want\nC2                            - metadata\nR2                            - filled\nR2                            - remembered\nR2                            - waste\nR2                            - reentering\nC2                            - information\nR2                            - want\nR2                            - link\nR2                            - data\nR2                            - stored\nR2                            - store\nC2                            - data\nR2                            - register\nR2                            - deposit\nC2                            - data\nR2                            - want\nR2                            - specify\nC2                            - policy\nR2                            - breach\nC2                            - laws\nR2                            - want\nR2                            - track\nC2                            - downloads\nR2                            - demonstrate\nC2                            - impact\nR2                            - want\nR2                            - track\nC2                            - citations\nR2                            - demonstrate\nC2                            - impact\nR2                            - want\nR2                            - guarantees\nR2                            - use\nC2                            - data\nR2                            - fulfil\nC2                            - requirements\nR2                            - want\nR2                            - attach\nC2                            - metadata\nR2                            - find\nC2                            - data\nR2                            - want\nR2                            - link\nC2                            - datasets\nR2                            - demonstrated\nR2                            - linked\nR2                            - want\nR2                            - manage\nR2                            - share\nC2                            - live\nR2                            - linked\nR2                            - want\nR2                            - manage\nC2                            - versions\nR2                            - changes\nR2                            - compromise\nC2                            - integrity\nR2                            - want\nR2                            - allow\nC2                            - others\nR2                            - deposit\nR2                            - delegate\nC2                            - tasks\nR2                            - want\nR2                            - search\nC2                            - archive\nR2                            - find\nC2                            - relevant\nR2                            - want\nR2                            - access\nC2                            - system\nR2                            - put\nR2                            - reusing\nC2                            - university\nR2                            - want\nR2                            - examine\nR2                            - identify\nC2                            - files\nR2                            - make\nC2                            - assessment\nR2                            - downloading\nC2                            - dataset\nR2                            - want\nR2                            - view\nC2                            - citation\nR2                            - reference\nR2                            - want\nR2                            - view\nC2                            - doi\nR2                            - import\nC2                            - dataset\nR2                            - want\nC2                            - url\nR2                            - want\nR2                            - search\nC2                            - archive\nR2                            - search\nC2                            - books\nR2                            - want\nR2                            - see\nC2                            - versions\nR2                            - using\nC2                            - version\nR2                            - want\nR2                            - gain\nC2                            - access\nR2                            - data\nR2                            - involved\nR2                            - collaborate\nR2                            - want\nR2                            - guarantees\nR2                            - breached\nC2                            - risk\nR2                            - collaborating\nR2                            - want\nR2                            - access\nC2                            - data\nR2                            - collaborate\nR2                            - want\nR2                            - deposit\nC2                            - data\nR2                            - required\nR2                            - maintain\nC2                            - archive\nR2                            - access\nC2                            - data\nR2                            - needed\nR2                            - want\nR2                            - make\nC2                            - checks\nR2                            - deposited\nC2                            - datasets\nR2                            - made\nC2                            - quality\nR2                            - maintained\nR2                            - checked\nR2                            - details\nR2                            - licensing\nR2                            - checked\nR2                            - want\nR2                            - require\nC2                            - set\nR2                            - maintained\nR2                            - want\nR2                            - approve\nC2                            - disposal\nR2                            - required\nR2                            - destroyed\nR2                            - want\nR2                            - query\nC2                            - archive\nR2                            - report\nR2                            - want\nR2                            - import\nC2                            - data\nR2                            - lost\nR2                            - close\nC2                            - down\nR2                            - want\nR2                            - encourage\nR2                            - promote\nC2                            - use\nR2                            - want\nR2                            - integrate\nC2                            - archive\nR2                            - analyse\nC2                            - impact\nR2                            - link\nC2                            - funding\nR2                            - produces\nR2                            - want\nR2                            - include\nC2                            - records\nR2                            - held\nC2                            - complete\nR2                            - want\nR2                            - track\nC2                            - counts\nR2                            - published\nC2                            - datasets\nR2                            - demonstrated\nR2                            - want\nR2                            - segment\nC2                            - view\nR2                            - download\nC2                            - statistics\nR2                            - demonstrated\nR2                            - want\nR2                            - linked\nR2                            - report\nR2                            - depositing\nC2                            - datasets\nR2                            - funder\nC2                            - requirements\nR2                            - want\nR2                            - store\nC2                            - data\nR2                            - existing\nC2                            - systems\nR2                            - guaranteed\nR2                            - want\nR2                            - integrate\nC2                            - archive\nR2                            - existing\nC2                            - systems\nR2                            - administering\nC2                            - system\nR2                            - kept\nC2                            - low\nR2                            - want\nR2                            - store\nC2                            - data\nR2                            - made\nR2                            - want\nR2                            - export\nC2                            - data\nR2                            - tied\nR2                            - want\nR2                            - deposit\nR2                            - maintain\nC2                            - datasets\nR2                            - interact\nR2                            - want\nR2                            - make\nC2                            - links\nR2                            - underlying\nC2                            - datasets\nR2                            - seen\nR2                            - filled\nR2                            - want\nR2                            - reassured\nC2                            - researchers\nR2                            - fund\nC2                            - plans\nR2                            - funding\nR2                            - want\nR2                            - harvest\nC2                            - metadata\nR2                            - analyse\nC2                            - effectiveness\nR2                            - encourage\nC2                            - fertilisation\n"
     ]
    }
   ],
   "source": [
    "p='/Users/alqahtsa/py_projects/uml_generator/user_stories_txt/g05-openspending.txt'\n",
    "test_user_story=get_text(p)\n",
    "test_clean_user_story=preprocess_text(user_story)\n",
    "tdoc=ner_model(test_clean_user_story)\n",
    "for ent in tdoc.ents:\n",
    "    print(f'{ent.label_.upper():{30}}- {ent.text}')"
   ]
  },
  {
   "cell_type": "code",
   "execution_count": 3,
   "metadata": {},
   "outputs": [],
   "source": [
    "def custom_sents(docx):\n",
    "    for token in docx[:-1]:\n",
    "        if token.text=='|':\n",
    "            docx[token.i].is_sent_start=True\n",
    "    return docx\n"
   ]
  },
  {
   "cell_type": "code",
   "execution_count": 4,
   "metadata": {},
   "outputs": [],
   "source": [
    "def rme_custom_sents(docx):\n",
    "    for token in docx[:-1]:\n",
    "        if token.text==',' and docx[token.i+1].text=='i':\n",
    "            docx[token.i].is_sent_start=True\n",
    "        elif token.text==',' and docx[token.i+1].text=='so':\n",
    "            docx[token.i].is_sent_start=True\n",
    "    return docx"
   ]
  },
  {
   "cell_type": "code",
   "execution_count": 5,
   "metadata": {},
   "outputs": [],
   "source": [
    "def check_verb(token):\n",
    "    \"\"\"Check verb type given spacy token\"\"\"\n",
    "    if token.pos_ == 'VERB':\n",
    "        indirect_object = False\n",
    "        direct_object = False\n",
    "        for item in token.children:\n",
    "            if(item.dep_ == \"iobj\" or item.dep_ == \"pobj\"):\n",
    "                indirect_object = True\n",
    "            if (item.dep_ == \"dobj\" or item.dep_ == \"dative\"):\n",
    "                direct_object = True\n",
    "        if indirect_object and direct_object:\n",
    "            return 'DITRANVERB'\n",
    "        elif direct_object and not indirect_object:\n",
    "            return 'TRANVERB'\n",
    "        elif not direct_object and not indirect_object:\n",
    "            return 'INTRANVERB'\n",
    "        else:\n",
    "            return 'VERB'\n",
    "    else:\n",
    "        return token.pos_"
   ]
  },
  {
   "cell_type": "code",
   "execution_count": null,
   "metadata": {},
   "outputs": [],
   "source": []
  }
 ]
}